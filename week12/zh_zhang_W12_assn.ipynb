{
 "cells": [
  {
   "cell_type": "markdown",
   "metadata": {
    "collapsed": true
   },
   "source": [
    "## Week 10 Assignment"
   ]
  },
  {
   "cell_type": "markdown",
   "metadata": {},
   "source": [
    "### Part 1 Working with HTML, XML, and JSON"
   ]
  },
  {
   "cell_type": "markdown",
   "metadata": {},
   "source": [
    "Set up the required package. "
   ]
  },
  {
   "cell_type": "code",
   "execution_count": 1,
   "metadata": {},
   "outputs": [],
   "source": [
    "#set up the basic package\n",
    "import numpy as np\n",
    "import pandas as pd\n",
    "import requests\n",
    "\n",
    "\n",
    "#html using pandaspackage\n",
    "\n",
    "\n",
    "#xml\n",
    "# load the urllib.request function so that we can use a web path with the \n",
    "# Python open() function\n",
    "import urllib.request\n",
    "\n",
    "# load the objectify() function from the lxml library\n",
    "from lxml import objectify\n"
   ]
  },
  {
   "cell_type": "markdown",
   "metadata": {},
   "source": [
    "#### Task 1 HTML file"
   ]
  },
  {
   "cell_type": "markdown",
   "metadata": {},
   "source": [
    "Firstly I create a html file for my favorite books. Then I upload the file to Github. "
   ]
  },
  {
   "cell_type": "code",
   "execution_count": 2,
   "metadata": {},
   "outputs": [
    {
     "data": {
      "text/plain": [
       "1"
      ]
     },
     "execution_count": 2,
     "metadata": {},
     "output_type": "execute_result"
    }
   ],
   "source": [
    "# reading an HTML \n",
    "tables = pd.read_html('https://raw.githubusercontent.com/steinszzh/DAV-5400/master/week12/book.html')\n",
    "len(tables)"
   ]
  },
  {
   "cell_type": "markdown",
   "metadata": {},
   "source": [
    "Similar to note example, we need to extract the dataframe"
   ]
  },
  {
   "cell_type": "code",
   "execution_count": 3,
   "metadata": {},
   "outputs": [
    {
     "data": {
      "text/plain": [
       "pandas.core.frame.DataFrame"
      ]
     },
     "execution_count": 3,
     "metadata": {},
     "output_type": "execute_result"
    }
   ],
   "source": [
    "# the first item (and in this case, the only item) in the list is a data frame\n",
    "#extract dataframe\n",
    "table_html = tables[0]\n",
    "type(table_html)"
   ]
  },
  {
   "cell_type": "code",
   "execution_count": 4,
   "metadata": {},
   "outputs": [
    {
     "data": {
      "text/html": [
       "<div>\n",
       "<style scoped>\n",
       "    .dataframe tbody tr th:only-of-type {\n",
       "        vertical-align: middle;\n",
       "    }\n",
       "\n",
       "    .dataframe tbody tr th {\n",
       "        vertical-align: top;\n",
       "    }\n",
       "\n",
       "    .dataframe thead th {\n",
       "        text-align: right;\n",
       "    }\n",
       "</style>\n",
       "<table border=\"1\" class=\"dataframe\">\n",
       "  <thead>\n",
       "    <tr style=\"text-align: right;\">\n",
       "      <th></th>\n",
       "      <th>Title</th>\n",
       "      <th>Author</th>\n",
       "      <th>ISBN</th>\n",
       "      <th>Price</th>\n",
       "      <th>Edition</th>\n",
       "    </tr>\n",
       "  </thead>\n",
       "  <tbody>\n",
       "    <tr>\n",
       "      <th>0</th>\n",
       "      <td>The Elements of Statistical Learning Data Mini...</td>\n",
       "      <td>Trevor Hastie,Robert Tibshirani,Jerome Friedman</td>\n",
       "      <td>978-1-4899-0519-2</td>\n",
       "      <td>73.38</td>\n",
       "      <td>2nd edition</td>\n",
       "    </tr>\n",
       "    <tr>\n",
       "      <th>1</th>\n",
       "      <td>Pattern Recognition and Machine Learning</td>\n",
       "      <td>Christopher M. Bishop</td>\n",
       "      <td>978-0387310732</td>\n",
       "      <td>57.70</td>\n",
       "      <td>1st edition</td>\n",
       "    </tr>\n",
       "    <tr>\n",
       "      <th>2</th>\n",
       "      <td>Machine Learning A Probabilistic Perspective</td>\n",
       "      <td>Kevin P. Murphy</td>\n",
       "      <td>978-0262018029</td>\n",
       "      <td>68.30</td>\n",
       "      <td>1st edition</td>\n",
       "    </tr>\n",
       "  </tbody>\n",
       "</table>\n",
       "</div>"
      ],
      "text/plain": [
       "                                               Title  \\\n",
       "0  The Elements of Statistical Learning Data Mini...   \n",
       "1           Pattern Recognition and Machine Learning   \n",
       "2       Machine Learning A Probabilistic Perspective   \n",
       "\n",
       "                                            Author               ISBN  Price  \\\n",
       "0  Trevor Hastie,Robert Tibshirani,Jerome Friedman  978-1-4899-0519-2  73.38   \n",
       "1                            Christopher M. Bishop     978-0387310732  57.70   \n",
       "2                                  Kevin P. Murphy     978-0262018029  68.30   \n",
       "\n",
       "       Edition  \n",
       "0  2nd edition  \n",
       "1  1st edition  \n",
       "2  1st edition  "
      ]
     },
     "execution_count": 4,
     "metadata": {},
     "output_type": "execute_result"
    }
   ],
   "source": [
    "# check the first few rows of the data frame\n",
    "table_html.head()"
   ]
  },
  {
   "cell_type": "markdown",
   "metadata": {},
   "source": [
    "As expected , table_html is the required dataframe."
   ]
  },
  {
   "cell_type": "markdown",
   "metadata": {},
   "source": [
    "#### Task2 XML file"
   ]
  },
  {
   "cell_type": "markdown",
   "metadata": {},
   "source": [
    "Similar to Task1, I create a xml file including given information. Then I upload the file to Github. "
   ]
  },
  {
   "cell_type": "code",
   "execution_count": 5,
   "metadata": {},
   "outputs": [
    {
     "data": {
      "text/plain": [
       "<Element books at 0x7f7bdb613388>"
      ]
     },
     "execution_count": 5,
     "metadata": {},
     "output_type": "execute_result"
    }
   ],
   "source": [
    "#start from the lecture notes for reading xml file\n",
    "  # open the web page containing the data set\n",
    "path, headers = urllib.request.urlretrieve('https://raw.githubusercontent.com/steinszzh/DAV-5400/master/week12/book.xml')\n",
    "\n",
    "# objectify() is then used to parse the web page\n",
    "parsed = objectify.parse(open(path))\n",
    "\n",
    "# now get a reference to the root node of the XML file\n",
    "root = parsed.getroot()  \n",
    "root"
   ]
  },
  {
   "cell_type": "code",
   "execution_count": 6,
   "metadata": {},
   "outputs": [
    {
     "data": {
      "text/plain": [
       "[{'Title': 'The Elements of Statistical Learning Data Mining, Inference, and Prediction',\n",
       "  'Author': 'Trevor Hastie,Robert Tibshirani,Jerome Friedman',\n",
       "  'ISBN': '978-1-4899-0519-2',\n",
       "  'Price': 73.38,\n",
       "  'Edition': '2nd edition'},\n",
       " {'Title': 'Pattern Recognition and Machine Learning',\n",
       "  'Author': 'Christopher M. Bishop ',\n",
       "  'ISBN': '978-0387310732',\n",
       "  'Price': 57.7,\n",
       "  'Edition': '1st edition'},\n",
       " {'Title': 'Machine Learning A Probabilistic Perspective',\n",
       "  'Author': 'Kevin P. Murphy',\n",
       "  'ISBN': '978-0262018029',\n",
       "  'Price': 68.3,\n",
       "  'Edition': '1st edition'}]"
      ]
     },
     "execution_count": 6,
     "metadata": {},
     "output_type": "execute_result"
    }
   ],
   "source": [
    "#revised a bit from class notes because it does not need special words to ignore\n",
    "\n",
    "# define an empty list that will be used to store the parsed data\n",
    "data = []\n",
    "\n",
    "# root.book is a generator that we use to extract each <book>\n",
    "# element from the XML data\n",
    "for elt in root.book:\n",
    "     # for each record, create a dict of tag names (e.g., 'YTD_ACTUAL')\n",
    "    el_data = {}\n",
    "    for child in elt.getchildren():\n",
    "\n",
    "        el_data[child.tag] = child.pyval\n",
    "    data.append(el_data)\n",
    "#check data\n",
    "data"
   ]
  },
  {
   "cell_type": "markdown",
   "metadata": {},
   "source": [
    "Then it can be easily converted into pandas dataframe."
   ]
  },
  {
   "cell_type": "code",
   "execution_count": 7,
   "metadata": {},
   "outputs": [
    {
     "data": {
      "text/html": [
       "<div>\n",
       "<style scoped>\n",
       "    .dataframe tbody tr th:only-of-type {\n",
       "        vertical-align: middle;\n",
       "    }\n",
       "\n",
       "    .dataframe tbody tr th {\n",
       "        vertical-align: top;\n",
       "    }\n",
       "\n",
       "    .dataframe thead th {\n",
       "        text-align: right;\n",
       "    }\n",
       "</style>\n",
       "<table border=\"1\" class=\"dataframe\">\n",
       "  <thead>\n",
       "    <tr style=\"text-align: right;\">\n",
       "      <th></th>\n",
       "      <th>Title</th>\n",
       "      <th>Author</th>\n",
       "      <th>ISBN</th>\n",
       "      <th>Price</th>\n",
       "      <th>Edition</th>\n",
       "    </tr>\n",
       "  </thead>\n",
       "  <tbody>\n",
       "    <tr>\n",
       "      <th>0</th>\n",
       "      <td>The Elements of Statistical Learning Data Mini...</td>\n",
       "      <td>Trevor Hastie,Robert Tibshirani,Jerome Friedman</td>\n",
       "      <td>978-1-4899-0519-2</td>\n",
       "      <td>73.38</td>\n",
       "      <td>2nd edition</td>\n",
       "    </tr>\n",
       "    <tr>\n",
       "      <th>1</th>\n",
       "      <td>Pattern Recognition and Machine Learning</td>\n",
       "      <td>Christopher M. Bishop</td>\n",
       "      <td>978-0387310732</td>\n",
       "      <td>57.70</td>\n",
       "      <td>1st edition</td>\n",
       "    </tr>\n",
       "    <tr>\n",
       "      <th>2</th>\n",
       "      <td>Machine Learning A Probabilistic Perspective</td>\n",
       "      <td>Kevin P. Murphy</td>\n",
       "      <td>978-0262018029</td>\n",
       "      <td>68.30</td>\n",
       "      <td>1st edition</td>\n",
       "    </tr>\n",
       "  </tbody>\n",
       "</table>\n",
       "</div>"
      ],
      "text/plain": [
       "                                               Title  \\\n",
       "0  The Elements of Statistical Learning Data Mini...   \n",
       "1           Pattern Recognition and Machine Learning   \n",
       "2       Machine Learning A Probabilistic Perspective   \n",
       "\n",
       "                                            Author               ISBN  Price  \\\n",
       "0  Trevor Hastie,Robert Tibshirani,Jerome Friedman  978-1-4899-0519-2  73.38   \n",
       "1                           Christopher M. Bishop      978-0387310732  57.70   \n",
       "2                                  Kevin P. Murphy     978-0262018029  68.30   \n",
       "\n",
       "       Edition  \n",
       "0  2nd edition  \n",
       "1  1st edition  \n",
       "2  1st edition  "
      ]
     },
     "execution_count": 7,
     "metadata": {},
     "output_type": "execute_result"
    }
   ],
   "source": [
    "#convert to dataframe\n",
    "table_xml=pd.DataFrame(data)\n",
    "#check the dataframe\n",
    "table_xml"
   ]
  },
  {
   "cell_type": "markdown",
   "metadata": {},
   "source": [
    "#### Task3   JSON file"
   ]
  },
  {
   "cell_type": "markdown",
   "metadata": {},
   "source": [
    "Similar to previous tasks, I create a json file including given information of books. Then I upload the file to Github. "
   ]
  },
  {
   "cell_type": "code",
   "execution_count": 8,
   "metadata": {},
   "outputs": [
    {
     "data": {
      "text/html": [
       "<div>\n",
       "<style scoped>\n",
       "    .dataframe tbody tr th:only-of-type {\n",
       "        vertical-align: middle;\n",
       "    }\n",
       "\n",
       "    .dataframe tbody tr th {\n",
       "        vertical-align: top;\n",
       "    }\n",
       "\n",
       "    .dataframe thead th {\n",
       "        text-align: right;\n",
       "    }\n",
       "</style>\n",
       "<table border=\"1\" class=\"dataframe\">\n",
       "  <thead>\n",
       "    <tr style=\"text-align: right;\">\n",
       "      <th></th>\n",
       "      <th>Title</th>\n",
       "      <th>Author</th>\n",
       "      <th>ISBN</th>\n",
       "      <th>Price</th>\n",
       "      <th>Edition</th>\n",
       "    </tr>\n",
       "  </thead>\n",
       "  <tbody>\n",
       "    <tr>\n",
       "      <th>0</th>\n",
       "      <td>The Elements of Statistical Learning Data Mini...</td>\n",
       "      <td>Trevor Hastie,Robert Tibshirani,Jerome Friedman</td>\n",
       "      <td>978-1-4899-0519-2</td>\n",
       "      <td>73.38</td>\n",
       "      <td>2nd edition</td>\n",
       "    </tr>\n",
       "    <tr>\n",
       "      <th>1</th>\n",
       "      <td>Pattern Recognition and Machine Learning</td>\n",
       "      <td>Christopher M. Bishop</td>\n",
       "      <td>978-0387310732</td>\n",
       "      <td>57.70</td>\n",
       "      <td>1st edition</td>\n",
       "    </tr>\n",
       "    <tr>\n",
       "      <th>2</th>\n",
       "      <td>Machine Learning A Probabilistic Perspective</td>\n",
       "      <td>Kevin P. Murphy</td>\n",
       "      <td>978-0262018029</td>\n",
       "      <td>68.30</td>\n",
       "      <td>1st edition</td>\n",
       "    </tr>\n",
       "  </tbody>\n",
       "</table>\n",
       "</div>"
      ],
      "text/plain": [
       "                                               Title  \\\n",
       "0  The Elements of Statistical Learning Data Mini...   \n",
       "1           Pattern Recognition and Machine Learning   \n",
       "2       Machine Learning A Probabilistic Perspective   \n",
       "\n",
       "                                            Author               ISBN  Price  \\\n",
       "0  Trevor Hastie,Robert Tibshirani,Jerome Friedman  978-1-4899-0519-2  73.38   \n",
       "1                           Christopher M. Bishop      978-0387310732  57.70   \n",
       "2                                  Kevin P. Murphy     978-0262018029  68.30   \n",
       "\n",
       "       Edition  \n",
       "0  2nd edition  \n",
       "1  1st edition  \n",
       "2  1st edition  "
      ]
     },
     "execution_count": 8,
     "metadata": {},
     "output_type": "execute_result"
    }
   ],
   "source": [
    "# read json file    \n",
    "table_json= pd.read_json(\"https://raw.githubusercontent.com/steinszzh/DAV-5400/master/week12/book.json\")    \n",
    "#check data\n",
    "table_json"
   ]
  },
  {
   "cell_type": "markdown",
   "metadata": {},
   "source": [
    "In conclusion, they are identical among these three files although their format is a bit different in the sense of structure. However, it turns out to be the same information. I would like to say they have the same information entropy. "
   ]
  },
  {
   "cell_type": "markdown",
   "metadata": {},
   "source": [
    "### Part 2  Working with Web API’s"
   ]
  },
  {
   "cell_type": "markdown",
   "metadata": {},
   "source": [
    "Firstly, I get the API keys through New York Times. Since I am a movie lover. I decide to use web api for movie review"
   ]
  },
  {
   "cell_type": "code",
   "execution_count": 9,
   "metadata": {},
   "outputs": [
    {
     "data": {
      "text/plain": [
       "'{\"status\":\"OK\",\"copyright\":\"Copyright (c) 2019 The New York Times Company. All Rights Reserved.\",\"has_more\":false,\"num_results\":10,\"results\":[{\"display_title\":\"The Black Godfather\",\"mpaa_rating\":\"\",\"critics_pick\":0,\"byline\":\"BEN KENIGSBERG\",\"headline\":\"\\\\u2018The Black Godfather\\\\u2019 Review: The Music Executive Who Made It All Happen\",\"summary_short\":\"Reginald Hudlin\\\\u2019s documentary about Clarence Avant includes many golden anecdotes.\",\"publication_date\":\"2019-06-06\",\"opening_date\":\"2019-06-07\",\"date_updated\":\"2019-06-14 16:44:01\",\"link\":{\"type\":\"article\",\"url\":\"http:\\\\/\\\\/www.nytimes.com\\\\/2019\\\\/06\\\\/06\\\\/movies\\\\/the-black-godfather-review.html\",\"suggested_link_text\":\"Read the New York Times Review of The Black Godfather\"},\"multimedia\":{\"type\":\"mediumThreeByTwo210\",\"src\":\"https:\\\\/\\\\/static01.nyt.com\\\\/images\\\\/2019\\\\/06\\\\/05\\\\/arts\\\\/blackgodfather1\\\\/blackgodfather1-mediumThreeByTwo210.jpg\",\"width\":210,\"height\":140}},{\"display_title\":\"Square Grouper: The Godfathers of Ganja\",\"mpaa_rating\":\"R\",\"critics_pick\":0,\"byline\":\"RACHEL SALTZ\",\"headline\":\"Adventures in the Drug Trades\",\"summary_short\":\"\\\\u201cSquare Grouper\\\\u201d is a documentary about pot smuggling in South Florida in the 1970s and \\\\u201980s.\",\"publication_date\":\"2011-04-14\",\"opening_date\":\"2011-04-15\",\"date_updated\":\"2017-11-02 04:18:13\",\"link\":{\"type\":\"article\",\"url\":\"http:\\\\/\\\\/www.nytimes.com\\\\/2011\\\\/04\\\\/15\\\\/movies\\\\/square-grouper-movie-review.html\",\"suggested_link_text\":\"Read the New York Times Review of Square Grouper: The Godfathers of Ganja\"},\"multimedia\":null},{\"display_title\":\"Tokyo Godfathers\",\"mpaa_rating\":\"PG-13\",\"critics_pick\":1,\"byline\":\"A. O. Scott\",\"headline\":\"Three Down-and-Outs Rescue a Foundling From the Trash\",\"summary_short\":\"Another marvel from Satoshi Kon, whose first two films, &quot;Perfect Blue&quot; and &quot;Millennium Actress,&quot; have already pushed Japanese feature-length animation toward greater realism and wilder fantasy. Loosely based on &quot;3 Godfathers,&quot; John Ford\\'s maudlin 1948 western, this movie, a sweet fable of decency amid the down and out, also has echoes of Chaplin and Capra. Three homeless people \\\\u2014 an embittered alcoholic, a middle-aged transvestite and a teenage runaway \\\\u2014 find an abandoned baby on Christmas Eve. As they try to reunite the foundling with her parents, they revisit their own unhappy lives, and travel through a city rendered with unbelievable precision and tinted with undeniable love. The potentially sticky sentiments of the story are balanced by a crazily inventive narrative and by Mr. Kon\\'s cool, obsessively detailed visual style. At the end, the skyscrapers of Tokyo wriggle and dance to a Japanese-language techno version of Beethoven\\'s &quot;Ode to Joy,&quot; which pretty much sums up this indescribable, unforgettable movie. \\\\u2014 A. O. Scott\",\"publication_date\":\"2004-01-16\",\"opening_date\":null,\"date_updated\":\"2017-11-02 04:16:23\",\"link\":{\"type\":\"article\",\"url\":\"http:\\\\/\\\\/www.nytimes.com\\\\/2004\\\\/01\\\\/16\\\\/movies\\\\/film-review-three-down-outs-rescue-foundling-trash-anyone-have-pacifier.html\",\"suggested_link_text\":\"Read the New York Times Review of Tokyo Godfathers\"},\"multimedia\":null},{\"display_title\":\"The Godfather, Part III\",\"mpaa_rating\":\"R\",\"critics_pick\":1,\"byline\":\"Janet Maslin\",\"headline\":\"GODFATHER PART III (MOVIE)\",\"summary_short\":\"Mafia heir trapped by legacy of past. Coppola\\'s director\\'s cut. Deeply moving.\",\"publication_date\":\"1990-12-25\",\"opening_date\":\"1990-12-25\",\"date_updated\":\"2017-11-02 04:17:42\",\"link\":{\"type\":\"article\",\"url\":\"http:\\\\/\\\\/www.nytimes.com\\\\/1990\\\\/12\\\\/25\\\\/movies\\\\/review-film-the-corleones-try-to-go-straight-in-the-godfather-part-iii.html\",\"suggested_link_text\":\"Read the New York Times Review of The Godfather, Part III\"},\"multimedia\":null},{\"display_title\":\"The Godfather, Part II\",\"mpaa_rating\":\"R\",\"critics_pick\":1,\"byline\":\"VINCENT CANBY\",\"headline\":\"Godfather: Part II, The (Movie)\",\"summary_short\":\"\",\"publication_date\":\"1974-12-13\",\"opening_date\":\"1974-12-20\",\"date_updated\":\"2017-11-02 04:17:27\",\"link\":{\"type\":\"article\",\"url\":\"http:\\\\/\\\\/www.nytimes.com\\\\/1974\\\\/12\\\\/13\\\\/archives\\\\/godfather-part-ii-is-hard-to-define-the-cast.html\",\"suggested_link_text\":\"Read the New York Times Review of The Godfather, Part II\"},\"multimedia\":null},{\"display_title\":\"The Black Godfather\",\"mpaa_rating\":\"R\",\"critics_pick\":0,\"byline\":\"NORA SAYRE\",\"headline\":\"Black Godfather, The (Movie)\",\"summary_short\":\"\",\"publication_date\":\"1974-09-04\",\"opening_date\":null,\"date_updated\":\"2017-11-02 04:16:03\",\"link\":{\"type\":\"article\",\"url\":\"http:\\\\/\\\\/www.nytimes.com\\\\/1974\\\\/09\\\\/04\\\\/archives\\\\/screen-drug-traffickers-vie-in-black-godfather.html\",\"suggested_link_text\":\"Read the New York Times Review of The Black Godfather\"},\"multimedia\":null},{\"display_title\":\"The Godfather\",\"mpaa_rating\":\"R\",\"critics_pick\":1,\"byline\":\"Vincent Canby\",\"headline\":\"THE GODFATHER (MOVIE)\",\"summary_short\":\"Puzo\\'s Mafioso novel. Scalding and memorable.\",\"publication_date\":\"1972-03-16\",\"opening_date\":\"1972-03-24\",\"date_updated\":\"2017-11-02 04:17:26\",\"link\":{\"type\":\"article\",\"url\":\"http:\\\\/\\\\/www.nytimes.com\\\\/movie\\\\/review?res=EE05E7DF1739E464BC4E52DFB5668389669EDE\",\"suggested_link_text\":\"Read the New York Times Review of The Godfather\"},\"multimedia\":null},{\"display_title\":\"Three Godfathers\",\"mpaa_rating\":\"\",\"critics_pick\":0,\"byline\":\"BOSLEY CROWTHER\",\"headline\":\"Three Godfathers\",\"summary_short\":\"Outlaw trio and abandoned child. Typical, expert Ford western.\",\"publication_date\":\"1949-03-04\",\"opening_date\":\"1948-12-01\",\"date_updated\":\"2017-11-02 04:17:11\",\"link\":{\"type\":\"article\",\"url\":\"http:\\\\/\\\\/www.nytimes.com\\\\/1949\\\\/03\\\\/04\\\\/archives\\\\/the-screen-in-review-john-wayne-harry-carey-jr-in-three-godfathers.html\",\"suggested_link_text\":\"Read the New York Times Review of Three Godfathers\"},\"multimedia\":null},{\"display_title\":\"Miracle in the Sand\",\"mpaa_rating\":\"\",\"critics_pick\":0,\"byline\":\"J.T.M.\",\"headline\":\"Three Godfathers, The\",\"summary_short\":\"Thieves reluctantly care for orphan. Tragic horse opera.\",\"publication_date\":\"1936-03-09\",\"opening_date\":\"1936-03-06\",\"date_updated\":\"2017-11-02 04:16:58\",\"link\":{\"type\":\"article\",\"url\":\"http:\\\\/\\\\/www.nytimes.com\\\\/1936\\\\/03\\\\/09\\\\/archives\\\\/at-the-rialto.html\",\"suggested_link_text\":\"Read the New York Times Review of Miracle in the Sand\"},\"multimedia\":null},{\"display_title\":\"El Compadre Mendoza\",\"mpaa_rating\":\"\",\"critics_pick\":0,\"byline\":\"Harry T. Smith\",\"headline\":\"Compadre Mendoza, El\",\"summary_short\":\"Landowner survives Mexican Revolution by supporting both sides. Directed by Fernando de Fuentes.\",\"publication_date\":\"1934-11-19\",\"opening_date\":\"1934-11-18\",\"date_updated\":\"2017-11-02 04:16:55\",\"link\":{\"type\":\"article\",\"url\":\"http:\\\\/\\\\/www.nytimes.com\\\\/1934\\\\/11\\\\/19\\\\/archives\\\\/a-mexican-tragedy.html\",\"suggested_link_text\":\"Read the New York Times Review of El Compadre Mendoza\"},\"multimedia\":null}]}'"
      ]
     },
     "execution_count": 9,
     "metadata": {},
     "output_type": "execute_result"
    }
   ],
   "source": [
    "#plan to use api for movie search. \n",
    "url = 'https://api.nytimes.com/svc/movies/v2/reviews/search.json?query=godfather&api-key=gBSfqAOKAX2FbpB2L2ycXDsko15vG2Q3'\n",
    "movie = requests.get(url)\n",
    "movie.text"
   ]
  },
  {
   "cell_type": "code",
   "execution_count": 10,
   "metadata": {},
   "outputs": [
    {
     "data": {
      "text/plain": [
       "dict"
      ]
     },
     "execution_count": 10,
     "metadata": {},
     "output_type": "execute_result"
    }
   ],
   "source": [
    "#convert the 'articles JSON format into native Python dict object\n",
    "data = movie.json()\n",
    "type(data)"
   ]
  },
  {
   "cell_type": "code",
   "execution_count": 11,
   "metadata": {},
   "outputs": [
    {
     "data": {
      "text/plain": [
       "{'status': 'OK',\n",
       " 'copyright': 'Copyright (c) 2019 The New York Times Company. All Rights Reserved.',\n",
       " 'has_more': False,\n",
       " 'num_results': 10,\n",
       " 'results': [{'display_title': 'The Black Godfather',\n",
       "   'mpaa_rating': '',\n",
       "   'critics_pick': 0,\n",
       "   'byline': 'BEN KENIGSBERG',\n",
       "   'headline': '‘The Black Godfather’ Review: The Music Executive Who Made It All Happen',\n",
       "   'summary_short': 'Reginald Hudlin’s documentary about Clarence Avant includes many golden anecdotes.',\n",
       "   'publication_date': '2019-06-06',\n",
       "   'opening_date': '2019-06-07',\n",
       "   'date_updated': '2019-06-14 16:44:01',\n",
       "   'link': {'type': 'article',\n",
       "    'url': 'http://www.nytimes.com/2019/06/06/movies/the-black-godfather-review.html',\n",
       "    'suggested_link_text': 'Read the New York Times Review of The Black Godfather'},\n",
       "   'multimedia': {'type': 'mediumThreeByTwo210',\n",
       "    'src': 'https://static01.nyt.com/images/2019/06/05/arts/blackgodfather1/blackgodfather1-mediumThreeByTwo210.jpg',\n",
       "    'width': 210,\n",
       "    'height': 140}},\n",
       "  {'display_title': 'Square Grouper: The Godfathers of Ganja',\n",
       "   'mpaa_rating': 'R',\n",
       "   'critics_pick': 0,\n",
       "   'byline': 'RACHEL SALTZ',\n",
       "   'headline': 'Adventures in the Drug Trades',\n",
       "   'summary_short': '“Square Grouper” is a documentary about pot smuggling in South Florida in the 1970s and ’80s.',\n",
       "   'publication_date': '2011-04-14',\n",
       "   'opening_date': '2011-04-15',\n",
       "   'date_updated': '2017-11-02 04:18:13',\n",
       "   'link': {'type': 'article',\n",
       "    'url': 'http://www.nytimes.com/2011/04/15/movies/square-grouper-movie-review.html',\n",
       "    'suggested_link_text': 'Read the New York Times Review of Square Grouper: The Godfathers of Ganja'},\n",
       "   'multimedia': None},\n",
       "  {'display_title': 'Tokyo Godfathers',\n",
       "   'mpaa_rating': 'PG-13',\n",
       "   'critics_pick': 1,\n",
       "   'byline': 'A. O. Scott',\n",
       "   'headline': 'Three Down-and-Outs Rescue a Foundling From the Trash',\n",
       "   'summary_short': \"Another marvel from Satoshi Kon, whose first two films, &quot;Perfect Blue&quot; and &quot;Millennium Actress,&quot; have already pushed Japanese feature-length animation toward greater realism and wilder fantasy. Loosely based on &quot;3 Godfathers,&quot; John Ford's maudlin 1948 western, this movie, a sweet fable of decency amid the down and out, also has echoes of Chaplin and Capra. Three homeless people — an embittered alcoholic, a middle-aged transvestite and a teenage runaway — find an abandoned baby on Christmas Eve. As they try to reunite the foundling with her parents, they revisit their own unhappy lives, and travel through a city rendered with unbelievable precision and tinted with undeniable love. The potentially sticky sentiments of the story are balanced by a crazily inventive narrative and by Mr. Kon's cool, obsessively detailed visual style. At the end, the skyscrapers of Tokyo wriggle and dance to a Japanese-language techno version of Beethoven's &quot;Ode to Joy,&quot; which pretty much sums up this indescribable, unforgettable movie. — A. O. Scott\",\n",
       "   'publication_date': '2004-01-16',\n",
       "   'opening_date': None,\n",
       "   'date_updated': '2017-11-02 04:16:23',\n",
       "   'link': {'type': 'article',\n",
       "    'url': 'http://www.nytimes.com/2004/01/16/movies/film-review-three-down-outs-rescue-foundling-trash-anyone-have-pacifier.html',\n",
       "    'suggested_link_text': 'Read the New York Times Review of Tokyo Godfathers'},\n",
       "   'multimedia': None},\n",
       "  {'display_title': 'The Godfather, Part III',\n",
       "   'mpaa_rating': 'R',\n",
       "   'critics_pick': 1,\n",
       "   'byline': 'Janet Maslin',\n",
       "   'headline': 'GODFATHER PART III (MOVIE)',\n",
       "   'summary_short': \"Mafia heir trapped by legacy of past. Coppola's director's cut. Deeply moving.\",\n",
       "   'publication_date': '1990-12-25',\n",
       "   'opening_date': '1990-12-25',\n",
       "   'date_updated': '2017-11-02 04:17:42',\n",
       "   'link': {'type': 'article',\n",
       "    'url': 'http://www.nytimes.com/1990/12/25/movies/review-film-the-corleones-try-to-go-straight-in-the-godfather-part-iii.html',\n",
       "    'suggested_link_text': 'Read the New York Times Review of The Godfather, Part III'},\n",
       "   'multimedia': None},\n",
       "  {'display_title': 'The Godfather, Part II',\n",
       "   'mpaa_rating': 'R',\n",
       "   'critics_pick': 1,\n",
       "   'byline': 'VINCENT CANBY',\n",
       "   'headline': 'Godfather: Part II, The (Movie)',\n",
       "   'summary_short': '',\n",
       "   'publication_date': '1974-12-13',\n",
       "   'opening_date': '1974-12-20',\n",
       "   'date_updated': '2017-11-02 04:17:27',\n",
       "   'link': {'type': 'article',\n",
       "    'url': 'http://www.nytimes.com/1974/12/13/archives/godfather-part-ii-is-hard-to-define-the-cast.html',\n",
       "    'suggested_link_text': 'Read the New York Times Review of The Godfather, Part II'},\n",
       "   'multimedia': None},\n",
       "  {'display_title': 'The Black Godfather',\n",
       "   'mpaa_rating': 'R',\n",
       "   'critics_pick': 0,\n",
       "   'byline': 'NORA SAYRE',\n",
       "   'headline': 'Black Godfather, The (Movie)',\n",
       "   'summary_short': '',\n",
       "   'publication_date': '1974-09-04',\n",
       "   'opening_date': None,\n",
       "   'date_updated': '2017-11-02 04:16:03',\n",
       "   'link': {'type': 'article',\n",
       "    'url': 'http://www.nytimes.com/1974/09/04/archives/screen-drug-traffickers-vie-in-black-godfather.html',\n",
       "    'suggested_link_text': 'Read the New York Times Review of The Black Godfather'},\n",
       "   'multimedia': None},\n",
       "  {'display_title': 'The Godfather',\n",
       "   'mpaa_rating': 'R',\n",
       "   'critics_pick': 1,\n",
       "   'byline': 'Vincent Canby',\n",
       "   'headline': 'THE GODFATHER (MOVIE)',\n",
       "   'summary_short': \"Puzo's Mafioso novel. Scalding and memorable.\",\n",
       "   'publication_date': '1972-03-16',\n",
       "   'opening_date': '1972-03-24',\n",
       "   'date_updated': '2017-11-02 04:17:26',\n",
       "   'link': {'type': 'article',\n",
       "    'url': 'http://www.nytimes.com/movie/review?res=EE05E7DF1739E464BC4E52DFB5668389669EDE',\n",
       "    'suggested_link_text': 'Read the New York Times Review of The Godfather'},\n",
       "   'multimedia': None},\n",
       "  {'display_title': 'Three Godfathers',\n",
       "   'mpaa_rating': '',\n",
       "   'critics_pick': 0,\n",
       "   'byline': 'BOSLEY CROWTHER',\n",
       "   'headline': 'Three Godfathers',\n",
       "   'summary_short': 'Outlaw trio and abandoned child. Typical, expert Ford western.',\n",
       "   'publication_date': '1949-03-04',\n",
       "   'opening_date': '1948-12-01',\n",
       "   'date_updated': '2017-11-02 04:17:11',\n",
       "   'link': {'type': 'article',\n",
       "    'url': 'http://www.nytimes.com/1949/03/04/archives/the-screen-in-review-john-wayne-harry-carey-jr-in-three-godfathers.html',\n",
       "    'suggested_link_text': 'Read the New York Times Review of Three Godfathers'},\n",
       "   'multimedia': None},\n",
       "  {'display_title': 'Miracle in the Sand',\n",
       "   'mpaa_rating': '',\n",
       "   'critics_pick': 0,\n",
       "   'byline': 'J.T.M.',\n",
       "   'headline': 'Three Godfathers, The',\n",
       "   'summary_short': 'Thieves reluctantly care for orphan. Tragic horse opera.',\n",
       "   'publication_date': '1936-03-09',\n",
       "   'opening_date': '1936-03-06',\n",
       "   'date_updated': '2017-11-02 04:16:58',\n",
       "   'link': {'type': 'article',\n",
       "    'url': 'http://www.nytimes.com/1936/03/09/archives/at-the-rialto.html',\n",
       "    'suggested_link_text': 'Read the New York Times Review of Miracle in the Sand'},\n",
       "   'multimedia': None},\n",
       "  {'display_title': 'El Compadre Mendoza',\n",
       "   'mpaa_rating': '',\n",
       "   'critics_pick': 0,\n",
       "   'byline': 'Harry T. Smith',\n",
       "   'headline': 'Compadre Mendoza, El',\n",
       "   'summary_short': 'Landowner survives Mexican Revolution by supporting both sides. Directed by Fernando de Fuentes.',\n",
       "   'publication_date': '1934-11-19',\n",
       "   'opening_date': '1934-11-18',\n",
       "   'date_updated': '2017-11-02 04:16:55',\n",
       "   'link': {'type': 'article',\n",
       "    'url': 'http://www.nytimes.com/1934/11/19/archives/a-mexican-tragedy.html',\n",
       "    'suggested_link_text': 'Read the New York Times Review of El Compadre Mendoza'},\n",
       "   'multimedia': None}]}"
      ]
     },
     "execution_count": 11,
     "metadata": {},
     "output_type": "execute_result"
    }
   ],
   "source": [
    "# check the content of the dict\n",
    "data"
   ]
  },
  {
   "cell_type": "code",
   "execution_count": 12,
   "metadata": {},
   "outputs": [
    {
     "data": {
      "text/plain": [
       "[{'display_title': 'The Black Godfather',\n",
       "  'mpaa_rating': '',\n",
       "  'critics_pick': 0,\n",
       "  'byline': 'BEN KENIGSBERG',\n",
       "  'headline': '‘The Black Godfather’ Review: The Music Executive Who Made It All Happen',\n",
       "  'summary_short': 'Reginald Hudlin’s documentary about Clarence Avant includes many golden anecdotes.',\n",
       "  'publication_date': '2019-06-06',\n",
       "  'opening_date': '2019-06-07',\n",
       "  'date_updated': '2019-06-14 16:44:01',\n",
       "  'link': {'type': 'article',\n",
       "   'url': 'http://www.nytimes.com/2019/06/06/movies/the-black-godfather-review.html',\n",
       "   'suggested_link_text': 'Read the New York Times Review of The Black Godfather'},\n",
       "  'multimedia': {'type': 'mediumThreeByTwo210',\n",
       "   'src': 'https://static01.nyt.com/images/2019/06/05/arts/blackgodfather1/blackgodfather1-mediumThreeByTwo210.jpg',\n",
       "   'width': 210,\n",
       "   'height': 140}},\n",
       " {'display_title': 'Square Grouper: The Godfathers of Ganja',\n",
       "  'mpaa_rating': 'R',\n",
       "  'critics_pick': 0,\n",
       "  'byline': 'RACHEL SALTZ',\n",
       "  'headline': 'Adventures in the Drug Trades',\n",
       "  'summary_short': '“Square Grouper” is a documentary about pot smuggling in South Florida in the 1970s and ’80s.',\n",
       "  'publication_date': '2011-04-14',\n",
       "  'opening_date': '2011-04-15',\n",
       "  'date_updated': '2017-11-02 04:18:13',\n",
       "  'link': {'type': 'article',\n",
       "   'url': 'http://www.nytimes.com/2011/04/15/movies/square-grouper-movie-review.html',\n",
       "   'suggested_link_text': 'Read the New York Times Review of Square Grouper: The Godfathers of Ganja'},\n",
       "  'multimedia': None},\n",
       " {'display_title': 'Tokyo Godfathers',\n",
       "  'mpaa_rating': 'PG-13',\n",
       "  'critics_pick': 1,\n",
       "  'byline': 'A. O. Scott',\n",
       "  'headline': 'Three Down-and-Outs Rescue a Foundling From the Trash',\n",
       "  'summary_short': \"Another marvel from Satoshi Kon, whose first two films, &quot;Perfect Blue&quot; and &quot;Millennium Actress,&quot; have already pushed Japanese feature-length animation toward greater realism and wilder fantasy. Loosely based on &quot;3 Godfathers,&quot; John Ford's maudlin 1948 western, this movie, a sweet fable of decency amid the down and out, also has echoes of Chaplin and Capra. Three homeless people — an embittered alcoholic, a middle-aged transvestite and a teenage runaway — find an abandoned baby on Christmas Eve. As they try to reunite the foundling with her parents, they revisit their own unhappy lives, and travel through a city rendered with unbelievable precision and tinted with undeniable love. The potentially sticky sentiments of the story are balanced by a crazily inventive narrative and by Mr. Kon's cool, obsessively detailed visual style. At the end, the skyscrapers of Tokyo wriggle and dance to a Japanese-language techno version of Beethoven's &quot;Ode to Joy,&quot; which pretty much sums up this indescribable, unforgettable movie. — A. O. Scott\",\n",
       "  'publication_date': '2004-01-16',\n",
       "  'opening_date': None,\n",
       "  'date_updated': '2017-11-02 04:16:23',\n",
       "  'link': {'type': 'article',\n",
       "   'url': 'http://www.nytimes.com/2004/01/16/movies/film-review-three-down-outs-rescue-foundling-trash-anyone-have-pacifier.html',\n",
       "   'suggested_link_text': 'Read the New York Times Review of Tokyo Godfathers'},\n",
       "  'multimedia': None},\n",
       " {'display_title': 'The Godfather, Part III',\n",
       "  'mpaa_rating': 'R',\n",
       "  'critics_pick': 1,\n",
       "  'byline': 'Janet Maslin',\n",
       "  'headline': 'GODFATHER PART III (MOVIE)',\n",
       "  'summary_short': \"Mafia heir trapped by legacy of past. Coppola's director's cut. Deeply moving.\",\n",
       "  'publication_date': '1990-12-25',\n",
       "  'opening_date': '1990-12-25',\n",
       "  'date_updated': '2017-11-02 04:17:42',\n",
       "  'link': {'type': 'article',\n",
       "   'url': 'http://www.nytimes.com/1990/12/25/movies/review-film-the-corleones-try-to-go-straight-in-the-godfather-part-iii.html',\n",
       "   'suggested_link_text': 'Read the New York Times Review of The Godfather, Part III'},\n",
       "  'multimedia': None},\n",
       " {'display_title': 'The Godfather, Part II',\n",
       "  'mpaa_rating': 'R',\n",
       "  'critics_pick': 1,\n",
       "  'byline': 'VINCENT CANBY',\n",
       "  'headline': 'Godfather: Part II, The (Movie)',\n",
       "  'summary_short': '',\n",
       "  'publication_date': '1974-12-13',\n",
       "  'opening_date': '1974-12-20',\n",
       "  'date_updated': '2017-11-02 04:17:27',\n",
       "  'link': {'type': 'article',\n",
       "   'url': 'http://www.nytimes.com/1974/12/13/archives/godfather-part-ii-is-hard-to-define-the-cast.html',\n",
       "   'suggested_link_text': 'Read the New York Times Review of The Godfather, Part II'},\n",
       "  'multimedia': None},\n",
       " {'display_title': 'The Black Godfather',\n",
       "  'mpaa_rating': 'R',\n",
       "  'critics_pick': 0,\n",
       "  'byline': 'NORA SAYRE',\n",
       "  'headline': 'Black Godfather, The (Movie)',\n",
       "  'summary_short': '',\n",
       "  'publication_date': '1974-09-04',\n",
       "  'opening_date': None,\n",
       "  'date_updated': '2017-11-02 04:16:03',\n",
       "  'link': {'type': 'article',\n",
       "   'url': 'http://www.nytimes.com/1974/09/04/archives/screen-drug-traffickers-vie-in-black-godfather.html',\n",
       "   'suggested_link_text': 'Read the New York Times Review of The Black Godfather'},\n",
       "  'multimedia': None},\n",
       " {'display_title': 'The Godfather',\n",
       "  'mpaa_rating': 'R',\n",
       "  'critics_pick': 1,\n",
       "  'byline': 'Vincent Canby',\n",
       "  'headline': 'THE GODFATHER (MOVIE)',\n",
       "  'summary_short': \"Puzo's Mafioso novel. Scalding and memorable.\",\n",
       "  'publication_date': '1972-03-16',\n",
       "  'opening_date': '1972-03-24',\n",
       "  'date_updated': '2017-11-02 04:17:26',\n",
       "  'link': {'type': 'article',\n",
       "   'url': 'http://www.nytimes.com/movie/review?res=EE05E7DF1739E464BC4E52DFB5668389669EDE',\n",
       "   'suggested_link_text': 'Read the New York Times Review of The Godfather'},\n",
       "  'multimedia': None},\n",
       " {'display_title': 'Three Godfathers',\n",
       "  'mpaa_rating': '',\n",
       "  'critics_pick': 0,\n",
       "  'byline': 'BOSLEY CROWTHER',\n",
       "  'headline': 'Three Godfathers',\n",
       "  'summary_short': 'Outlaw trio and abandoned child. Typical, expert Ford western.',\n",
       "  'publication_date': '1949-03-04',\n",
       "  'opening_date': '1948-12-01',\n",
       "  'date_updated': '2017-11-02 04:17:11',\n",
       "  'link': {'type': 'article',\n",
       "   'url': 'http://www.nytimes.com/1949/03/04/archives/the-screen-in-review-john-wayne-harry-carey-jr-in-three-godfathers.html',\n",
       "   'suggested_link_text': 'Read the New York Times Review of Three Godfathers'},\n",
       "  'multimedia': None},\n",
       " {'display_title': 'Miracle in the Sand',\n",
       "  'mpaa_rating': '',\n",
       "  'critics_pick': 0,\n",
       "  'byline': 'J.T.M.',\n",
       "  'headline': 'Three Godfathers, The',\n",
       "  'summary_short': 'Thieves reluctantly care for orphan. Tragic horse opera.',\n",
       "  'publication_date': '1936-03-09',\n",
       "  'opening_date': '1936-03-06',\n",
       "  'date_updated': '2017-11-02 04:16:58',\n",
       "  'link': {'type': 'article',\n",
       "   'url': 'http://www.nytimes.com/1936/03/09/archives/at-the-rialto.html',\n",
       "   'suggested_link_text': 'Read the New York Times Review of Miracle in the Sand'},\n",
       "  'multimedia': None},\n",
       " {'display_title': 'El Compadre Mendoza',\n",
       "  'mpaa_rating': '',\n",
       "  'critics_pick': 0,\n",
       "  'byline': 'Harry T. Smith',\n",
       "  'headline': 'Compadre Mendoza, El',\n",
       "  'summary_short': 'Landowner survives Mexican Revolution by supporting both sides. Directed by Fernando de Fuentes.',\n",
       "  'publication_date': '1934-11-19',\n",
       "  'opening_date': '1934-11-18',\n",
       "  'date_updated': '2017-11-02 04:16:55',\n",
       "  'link': {'type': 'article',\n",
       "   'url': 'http://www.nytimes.com/1934/11/19/archives/a-mexican-tragedy.html',\n",
       "   'suggested_link_text': 'Read the New York Times Review of El Compadre Mendoza'},\n",
       "  'multimedia': None}]"
      ]
     },
     "execution_count": 12,
     "metadata": {},
     "output_type": "execute_result"
    }
   ],
   "source": [
    "# Extracted the content started from response \n",
    "result = data['results']\n",
    "result"
   ]
  },
  {
   "cell_type": "code",
   "execution_count": 13,
   "metadata": {},
   "outputs": [
    {
     "data": {
      "text/html": [
       "<div>\n",
       "<style scoped>\n",
       "    .dataframe tbody tr th:only-of-type {\n",
       "        vertical-align: middle;\n",
       "    }\n",
       "\n",
       "    .dataframe tbody tr th {\n",
       "        vertical-align: top;\n",
       "    }\n",
       "\n",
       "    .dataframe thead th {\n",
       "        text-align: right;\n",
       "    }\n",
       "</style>\n",
       "<table border=\"1\" class=\"dataframe\">\n",
       "  <thead>\n",
       "    <tr style=\"text-align: right;\">\n",
       "      <th></th>\n",
       "      <th>display_title</th>\n",
       "      <th>mpaa_rating</th>\n",
       "      <th>critics_pick</th>\n",
       "      <th>summary_short</th>\n",
       "      <th>publication_date</th>\n",
       "    </tr>\n",
       "  </thead>\n",
       "  <tbody>\n",
       "    <tr>\n",
       "      <th>0</th>\n",
       "      <td>The Black Godfather</td>\n",
       "      <td></td>\n",
       "      <td>0</td>\n",
       "      <td>Reginald Hudlin’s documentary about Clarence A...</td>\n",
       "      <td>2019-06-06</td>\n",
       "    </tr>\n",
       "    <tr>\n",
       "      <th>1</th>\n",
       "      <td>Square Grouper: The Godfathers of Ganja</td>\n",
       "      <td>R</td>\n",
       "      <td>0</td>\n",
       "      <td>“Square Grouper” is a documentary about pot sm...</td>\n",
       "      <td>2011-04-14</td>\n",
       "    </tr>\n",
       "    <tr>\n",
       "      <th>2</th>\n",
       "      <td>Tokyo Godfathers</td>\n",
       "      <td>PG-13</td>\n",
       "      <td>1</td>\n",
       "      <td>Another marvel from Satoshi Kon, whose first t...</td>\n",
       "      <td>2004-01-16</td>\n",
       "    </tr>\n",
       "    <tr>\n",
       "      <th>3</th>\n",
       "      <td>The Godfather, Part III</td>\n",
       "      <td>R</td>\n",
       "      <td>1</td>\n",
       "      <td>Mafia heir trapped by legacy of past. Coppola'...</td>\n",
       "      <td>1990-12-25</td>\n",
       "    </tr>\n",
       "    <tr>\n",
       "      <th>4</th>\n",
       "      <td>The Godfather, Part II</td>\n",
       "      <td>R</td>\n",
       "      <td>1</td>\n",
       "      <td></td>\n",
       "      <td>1974-12-13</td>\n",
       "    </tr>\n",
       "    <tr>\n",
       "      <th>5</th>\n",
       "      <td>The Black Godfather</td>\n",
       "      <td>R</td>\n",
       "      <td>0</td>\n",
       "      <td></td>\n",
       "      <td>1974-09-04</td>\n",
       "    </tr>\n",
       "    <tr>\n",
       "      <th>6</th>\n",
       "      <td>The Godfather</td>\n",
       "      <td>R</td>\n",
       "      <td>1</td>\n",
       "      <td>Puzo's Mafioso novel. Scalding and memorable.</td>\n",
       "      <td>1972-03-16</td>\n",
       "    </tr>\n",
       "    <tr>\n",
       "      <th>7</th>\n",
       "      <td>Three Godfathers</td>\n",
       "      <td></td>\n",
       "      <td>0</td>\n",
       "      <td>Outlaw trio and abandoned child. Typical, expe...</td>\n",
       "      <td>1949-03-04</td>\n",
       "    </tr>\n",
       "    <tr>\n",
       "      <th>8</th>\n",
       "      <td>Miracle in the Sand</td>\n",
       "      <td></td>\n",
       "      <td>0</td>\n",
       "      <td>Thieves reluctantly care for orphan. Tragic ho...</td>\n",
       "      <td>1936-03-09</td>\n",
       "    </tr>\n",
       "    <tr>\n",
       "      <th>9</th>\n",
       "      <td>El Compadre Mendoza</td>\n",
       "      <td></td>\n",
       "      <td>0</td>\n",
       "      <td>Landowner survives Mexican Revolution by suppo...</td>\n",
       "      <td>1934-11-19</td>\n",
       "    </tr>\n",
       "  </tbody>\n",
       "</table>\n",
       "</div>"
      ],
      "text/plain": [
       "                             display_title mpaa_rating  critics_pick  \\\n",
       "0                      The Black Godfather                         0   \n",
       "1  Square Grouper: The Godfathers of Ganja           R             0   \n",
       "2                         Tokyo Godfathers       PG-13             1   \n",
       "3                  The Godfather, Part III           R             1   \n",
       "4                   The Godfather, Part II           R             1   \n",
       "5                      The Black Godfather           R             0   \n",
       "6                            The Godfather           R             1   \n",
       "7                         Three Godfathers                         0   \n",
       "8                      Miracle in the Sand                         0   \n",
       "9                      El Compadre Mendoza                         0   \n",
       "\n",
       "                                       summary_short publication_date  \n",
       "0  Reginald Hudlin’s documentary about Clarence A...       2019-06-06  \n",
       "1  “Square Grouper” is a documentary about pot sm...       2011-04-14  \n",
       "2  Another marvel from Satoshi Kon, whose first t...       2004-01-16  \n",
       "3  Mafia heir trapped by legacy of past. Coppola'...       1990-12-25  \n",
       "4                                                          1974-12-13  \n",
       "5                                                          1974-09-04  \n",
       "6      Puzo's Mafioso novel. Scalding and memorable.       1972-03-16  \n",
       "7  Outlaw trio and abandoned child. Typical, expe...       1949-03-04  \n",
       "8  Thieves reluctantly care for orphan. Tragic ho...       1936-03-09  \n",
       "9  Landowner survives Mexican Revolution by suppo...       1934-11-19  "
      ]
     },
     "execution_count": 13,
     "metadata": {},
     "output_type": "execute_result"
    }
   ],
   "source": [
    "#convert some of the extracted JSON data into a data frame\n",
    "# extracting some of the review componnents\n",
    "\n",
    "reviews = pd.DataFrame(result, columns=['display_title', 'mpaa_rating',\n",
    "                                     'critics_pick', 'summary_short','publication_date'\n",
    "                                     ])\n",
    "reviews"
   ]
  },
  {
   "cell_type": "markdown",
   "metadata": {},
   "source": [
    "As the data frame showed, it is the application of using webapi on movie search."
   ]
  },
  {
   "cell_type": "code",
   "execution_count": null,
   "metadata": {},
   "outputs": [],
   "source": []
  }
 ],
 "metadata": {
  "kernelspec": {
   "display_name": "Python 3",
   "language": "python",
   "name": "python3"
  },
  "language_info": {
   "codemirror_mode": {
    "name": "ipython",
    "version": 3
   },
   "file_extension": ".py",
   "mimetype": "text/x-python",
   "name": "python",
   "nbconvert_exporter": "python",
   "pygments_lexer": "ipython3",
   "version": "3.7.3"
  }
 },
 "nbformat": 4,
 "nbformat_minor": 2
}
