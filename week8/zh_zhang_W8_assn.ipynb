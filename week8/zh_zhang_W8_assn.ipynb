{
 "cells": [
  {
   "cell_type": "markdown",
   "metadata": {
    "collapsed": true
   },
   "source": [
    "## Week 8 Assignment"
   ]
  },
  {
   "cell_type": "markdown",
   "metadata": {},
   "source": [
    "### Set up the question"
   ]
  },
  {
   "cell_type": "code",
   "execution_count": 71,
   "metadata": {},
   "outputs": [],
   "source": [
    "#set up the basic package for regular expression and numpy\n",
    "import re\n",
    "import numpy as np\n",
    "#set up the text\n",
    "residents_of_town='''555-1239Moe Szyslak(636) 555-0113Burns, C. Montgomery555 -6542Rev. Timothy Lovejoy555\n",
    "8904Ned Flanders636-555-3226Simpson, Homer5553642Dr. Julius Hibbert'''"
   ]
  },
  {
   "cell_type": "markdown",
   "metadata": {},
   "source": [
    "#### Task1\n",
    "Extract the names of each individual from the unformatted text string and store them in a vector of some sort. When complete, your vector should contain the following entries"
   ]
  },
  {
   "cell_type": "code",
   "execution_count": 23,
   "metadata": {},
   "outputs": [
    {
     "data": {
      "text/plain": [
       "['Moe Szyslak',\n",
       " ' ',\n",
       " 'Burns, C. Montgomery',\n",
       " ' ',\n",
       " 'Rev. Timothy Lovejoy',\n",
       " '\\n',\n",
       " 'Ned Flanders',\n",
       " 'Simpson, Homer',\n",
       " 'Dr. Julius Hibbert']"
      ]
     },
     "execution_count": 23,
     "metadata": {},
     "output_type": "execute_result"
    }
   ],
   "source": [
    "\n",
    "#Extract names from text. Using pattern to filter the string\n",
    "regex = re.compile('[A-z.,\\s]+')\n",
    "regex.findall(residents_of_town)"
   ]
  },
  {
   "cell_type": "markdown",
   "metadata": {},
   "source": [
    "It is obvious that there is some space or change the line in the text.So the next step is to change to match the system.\n",
    "Firstly, I tried the append method to bypass space. \n"
   ]
  },
  {
   "cell_type": "code",
   "execution_count": 66,
   "metadata": {},
   "outputs": [
    {
     "data": {
      "text/plain": [
       "['Moe Szyslak',\n",
       " 'Burns, C. Montgomery',\n",
       " 'Rev. Timothy Lovejoy',\n",
       " 'Ned Flanders',\n",
       " 'Simpson, Homer',\n",
       " 'Dr. Julius Hibbert']"
      ]
     },
     "execution_count": 66,
     "metadata": {},
     "output_type": "execute_result"
    }
   ],
   "source": [
    "#Extract names  from text\n",
    "name = re.findall(r\"[A-z.,\\s]+\",residents_of_town)\n",
    "name\n",
    "#Way 1 using append method to bypass space\n",
    "names1 = []\n",
    "for i in name:\n",
    "    if re.findall(r'(\\w+.).(\\w+.)',i):\n",
    "        names1.append(i)   \n",
    "names1"
   ]
  },
  {
   "cell_type": "markdown",
   "metadata": {},
   "source": [
    "As we expected, the answer now clears the space and lines."
   ]
  },
  {
   "cell_type": "markdown",
   "metadata": {},
   "source": [
    "Also, to practice regular expression instead of previous knowledge, I try to use regular expression only to skip the space. \n",
    "I try to use $ or \\Z to skip the space."
   ]
  },
  {
   "cell_type": "code",
   "execution_count": 67,
   "metadata": {},
   "outputs": [
    {
     "data": {
      "text/plain": [
       "['Dr. Julius Hibbert']"
      ]
     },
     "execution_count": 67,
     "metadata": {},
     "output_type": "execute_result"
    }
   ],
   "source": [
    "#Extract names  from text\n",
    "name = re.findall(r\"[A-z.,\\s]+\\Z\",residents_of_town)\n",
    "name"
   ]
  },
  {
   "cell_type": "code",
   "execution_count": 31,
   "metadata": {},
   "outputs": [
    {
     "data": {
      "text/plain": [
       "['Moe Szyslak',\n",
       " ' ',\n",
       " 'Burns, C. Montgomery',\n",
       " ' ',\n",
       " 'Rev. Timothy Lovejoy',\n",
       " '\\n',\n",
       " 'Ned Flanders',\n",
       " 'Simpson, Homer',\n",
       " 'Dr. Julius Hibbert']"
      ]
     },
     "execution_count": 31,
     "metadata": {},
     "output_type": "execute_result"
    }
   ],
   "source": [
    "regex = re.compile('[A-z.,\\s]+')\n",
    "regex.findall(residents_of_town)"
   ]
  },
  {
   "cell_type": "markdown",
   "metadata": {},
   "source": [
    "Based on the result, we get the result as expected"
   ]
  },
  {
   "cell_type": "markdown",
   "metadata": {},
   "source": [
    "#### Task2\n",
    "Using your new vector containing only the names of the six individuals, complete the following tasks:\n",
    "a. Use your regex skills to rearrange the vector so that all elements conform to the standard “firstname\n",
    "lastname”, preserving any titles (e.g., “Rev.”, “Dr.”, etc) or middle/second names.\n",
    "b. Construct a logical vector indicating whether a character has a title (i.e., Rev. and Dr.).\n",
    "c. Construct a logical vector indicating whether a character has a middle/second name."
   ]
  },
  {
   "cell_type": "markdown",
   "metadata": {},
   "source": [
    "Startin from task1,  we have six individual name. But our second and fourth name is not in a standard format yet. SO firstly, I need to change "
   ]
  },
  {
   "cell_type": "code",
   "execution_count": 73,
   "metadata": {},
   "outputs": [
    {
     "data": {
      "text/plain": [
       "<numpy.vectorize at 0x7f7aef154b00>"
      ]
     },
     "execution_count": 73,
     "metadata": {},
     "output_type": "execute_result"
    }
   ],
   "source": [
    "#2a \n",
    "name2a=np.vectorize(names1)\n",
    "name2a"
   ]
  },
  {
   "cell_type": "markdown",
   "metadata": {},
   "source": [
    "As the result shows, it now changed into standards."
   ]
  },
  {
   "cell_type": "markdown",
   "metadata": {},
   "source": [
    "#### Task3\n",
    "Consider the HTML string$ <title>+++BREAKING NEWS+++<title>.$ We would like to extract the first HTML tag (i.e.,\n",
    "$“<title>”$). To do so we write the regular expression “<.+>”. Explain why this fails and correct the expression."
   ]
  },
  {
   "cell_type": "markdown",
   "metadata": {},
   "source": [
    "To start the task, I folow the instruction to generate the string first."
   ]
  },
  {
   "cell_type": "code",
   "execution_count": 37,
   "metadata": {},
   "outputs": [
    {
     "data": {
      "text/plain": [
       "'<title>+++BREAKING NEWS+++<title>'"
      ]
     },
     "execution_count": 37,
     "metadata": {},
     "output_type": "execute_result"
    }
   ],
   "source": [
    "# Create the string called \"Html_string\"\n",
    "HTML_string = '<title>+++BREAKING NEWS+++<title>'\n",
    "HTML_string\n"
   ]
  },
  {
   "cell_type": "code",
   "execution_count": 70,
   "metadata": {},
   "outputs": [
    {
     "data": {
      "text/plain": [
       "<re.Match object; span=(0, 33), match='<title>+++BREAKING NEWS+++<title>'>"
      ]
     },
     "execution_count": 70,
     "metadata": {},
     "output_type": "execute_result"
    }
   ],
   "source": [
    "# follow the instruction to perform the same command\n",
    "failure = re.match('<.+>', HTML_string)\n",
    "failure"
   ]
  },
  {
   "cell_type": "markdown",
   "metadata": {},
   "source": [
    "Based on the error message, it seems to match the whole thing. By testing, it seems work for adding ? aftermark after the quantifier to make it lazy. Based on online tutorial,  Using <[^<>]+> to quickly match an HTML tag without regard to attributes is a better solution."
   ]
  },
  {
   "cell_type": "code",
   "execution_count": 80,
   "metadata": {},
   "outputs": [
    {
     "data": {
      "text/plain": [
       "<re.Match object; span=(0, 7), match='<title>'>"
      ]
     },
     "execution_count": 80,
     "metadata": {},
     "output_type": "execute_result"
    }
   ],
   "source": [
    "# Adding ? afterward to \n",
    "verifier = re.match('<.+?>', HTML_string)\n",
    "verifier"
   ]
  },
  {
   "cell_type": "markdown",
   "metadata": {},
   "source": [
    "As expected, now it matchs the result. "
   ]
  },
  {
   "cell_type": "markdown",
   "metadata": {},
   "source": [
    "#### Task4"
   ]
  },
  {
   "cell_type": "markdown",
   "metadata": {},
   "source": [
    "Consider the string “$(5-3)^2=5^2-2*5*3+3^2$” conforms to the binomial theorem. We would like to extract the\n",
    "formula in the string. To do so we write the regular expression “[^0-9=+*()]+”. Explain why this fails and correct the\n",
    "expression ."
   ]
  },
  {
   "cell_type": "markdown",
   "metadata": {},
   "source": [
    "Firstly, I generate the binomial string as the question suggest. And follow the instruction to give the same command."
   ]
  },
  {
   "cell_type": "code",
   "execution_count": 41,
   "metadata": {},
   "outputs": [
    {
     "data": {
      "text/plain": [
       "'(5-3)^2=5^2-2*5*3+3^2'"
      ]
     },
     "execution_count": 41,
     "metadata": {},
     "output_type": "execute_result"
    }
   ],
   "source": [
    "# Create the string firstly\n",
    "string4 = '''(5-3)^2=5^2-2*5*3+3^2''' \n",
    "string4\n"
   ]
  },
  {
   "cell_type": "code",
   "execution_count": 50,
   "metadata": {},
   "outputs": [
    {
     "data": {
      "text/plain": [
       "['-', '^', '^', '-', '^']"
      ]
     },
     "execution_count": 50,
     "metadata": {},
     "output_type": "execute_result"
    }
   ],
   "source": [
    "# Follow the example\n",
    "failure4 = re.findall('[^0-9=+*()]+', string4 )\n",
    "failure4"
   ]
  },
  {
   "cell_type": "markdown",
   "metadata": {},
   "source": [
    "Based on the code and result, we can tell that ^ character at the beginning can let the string maatch the character not in the bracket. To correct the expression, I delete ^ firstly. To make sure the these character still show up correctly, I add -^ after the number. "
   ]
  },
  {
   "cell_type": "code",
   "execution_count": 59,
   "metadata": {},
   "outputs": [
    {
     "data": {
      "text/plain": [
       "['(5-3)^2=5^2-2*5*3+3^2']"
      ]
     },
     "execution_count": 59,
     "metadata": {},
     "output_type": "execute_result"
    }
   ],
   "source": [
    "#Removed ^ and add -^ to solve the problem\n",
    "improvement4 = re.findall('[0-9-^=+*()]+', string4)\n",
    "improvement4"
   ]
  },
  {
   "cell_type": "markdown",
   "metadata": {},
   "source": [
    "As expected, the string is corrected."
   ]
  }
 ],
 "metadata": {
  "kernelspec": {
   "display_name": "Python 3",
   "language": "python",
   "name": "python3"
  },
  "language_info": {
   "codemirror_mode": {
    "name": "ipython",
    "version": 3
   },
   "file_extension": ".py",
   "mimetype": "text/x-python",
   "name": "python",
   "nbconvert_exporter": "python",
   "pygments_lexer": "ipython3",
   "version": "3.7.3"
  }
 },
 "nbformat": 4,
 "nbformat_minor": 2
}
