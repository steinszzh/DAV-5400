{
 "cells": [
  {
   "cell_type": "markdown",
   "metadata": {},
   "source": [
    "## Project 1"
   ]
  },
  {
   "cell_type": "markdown",
   "metadata": {},
   "source": [
    "##### Team member: Zhihong Zhang."
   ]
  },
  {
   "cell_type": "markdown",
   "metadata": {},
   "source": [
    "The dataset of this project is based on the hflights package provided in the R programming language Package. "
   ]
  },
  {
   "cell_type": "markdown",
   "metadata": {},
   "source": [
    "#### The setting up of the project"
   ]
  },
  {
   "cell_type": "code",
   "execution_count": 2,
   "metadata": {},
   "outputs": [
    {
     "data": {
      "text/html": [
       "<div>\n",
       "<style>\n",
       "    .dataframe thead tr:only-child th {\n",
       "        text-align: right;\n",
       "    }\n",
       "\n",
       "    .dataframe thead th {\n",
       "        text-align: left;\n",
       "    }\n",
       "\n",
       "    .dataframe tbody tr th {\n",
       "        vertical-align: top;\n",
       "    }\n",
       "</style>\n",
       "<table border=\"1\" class=\"dataframe\">\n",
       "  <thead>\n",
       "    <tr style=\"text-align: right;\">\n",
       "      <th></th>\n",
       "      <th>Month</th>\n",
       "      <th>DayofMonth</th>\n",
       "      <th>DayOfWeek</th>\n",
       "      <th>DepTime</th>\n",
       "      <th>ArrTime</th>\n",
       "      <th>UniqueCarrier</th>\n",
       "      <th>FlightNum</th>\n",
       "      <th>TailNum</th>\n",
       "      <th>ActualElapsedTime</th>\n",
       "      <th>AirTime</th>\n",
       "      <th>ArrDelay</th>\n",
       "      <th>DepDelay</th>\n",
       "      <th>Origin</th>\n",
       "      <th>Dest</th>\n",
       "      <th>Distance</th>\n",
       "      <th>TaxiIn</th>\n",
       "      <th>TaxiOut</th>\n",
       "      <th>Cancelled</th>\n",
       "      <th>CancellationCode</th>\n",
       "      <th>Diverted</th>\n",
       "    </tr>\n",
       "    <tr>\n",
       "      <th>Year</th>\n",
       "      <th></th>\n",
       "      <th></th>\n",
       "      <th></th>\n",
       "      <th></th>\n",
       "      <th></th>\n",
       "      <th></th>\n",
       "      <th></th>\n",
       "      <th></th>\n",
       "      <th></th>\n",
       "      <th></th>\n",
       "      <th></th>\n",
       "      <th></th>\n",
       "      <th></th>\n",
       "      <th></th>\n",
       "      <th></th>\n",
       "      <th></th>\n",
       "      <th></th>\n",
       "      <th></th>\n",
       "      <th></th>\n",
       "      <th></th>\n",
       "    </tr>\n",
       "  </thead>\n",
       "  <tbody>\n",
       "    <tr>\n",
       "      <th>2011</th>\n",
       "      <td>1</td>\n",
       "      <td>1</td>\n",
       "      <td>6</td>\n",
       "      <td>1400.0</td>\n",
       "      <td>1500.0</td>\n",
       "      <td>AA</td>\n",
       "      <td>428</td>\n",
       "      <td>N576AA</td>\n",
       "      <td>60.0</td>\n",
       "      <td>40.0</td>\n",
       "      <td>-10.0</td>\n",
       "      <td>0.0</td>\n",
       "      <td>IAH</td>\n",
       "      <td>DFW</td>\n",
       "      <td>224</td>\n",
       "      <td>7.0</td>\n",
       "      <td>13.0</td>\n",
       "      <td>0</td>\n",
       "      <td>NaN</td>\n",
       "      <td>0</td>\n",
       "    </tr>\n",
       "    <tr>\n",
       "      <th>2011</th>\n",
       "      <td>1</td>\n",
       "      <td>2</td>\n",
       "      <td>7</td>\n",
       "      <td>1401.0</td>\n",
       "      <td>1501.0</td>\n",
       "      <td>AA</td>\n",
       "      <td>428</td>\n",
       "      <td>N557AA</td>\n",
       "      <td>60.0</td>\n",
       "      <td>45.0</td>\n",
       "      <td>-9.0</td>\n",
       "      <td>1.0</td>\n",
       "      <td>IAH</td>\n",
       "      <td>DFW</td>\n",
       "      <td>224</td>\n",
       "      <td>6.0</td>\n",
       "      <td>9.0</td>\n",
       "      <td>0</td>\n",
       "      <td>NaN</td>\n",
       "      <td>0</td>\n",
       "    </tr>\n",
       "    <tr>\n",
       "      <th>2011</th>\n",
       "      <td>1</td>\n",
       "      <td>3</td>\n",
       "      <td>1</td>\n",
       "      <td>1352.0</td>\n",
       "      <td>1502.0</td>\n",
       "      <td>AA</td>\n",
       "      <td>428</td>\n",
       "      <td>N541AA</td>\n",
       "      <td>70.0</td>\n",
       "      <td>48.0</td>\n",
       "      <td>-8.0</td>\n",
       "      <td>-8.0</td>\n",
       "      <td>IAH</td>\n",
       "      <td>DFW</td>\n",
       "      <td>224</td>\n",
       "      <td>5.0</td>\n",
       "      <td>17.0</td>\n",
       "      <td>0</td>\n",
       "      <td>NaN</td>\n",
       "      <td>0</td>\n",
       "    </tr>\n",
       "    <tr>\n",
       "      <th>2011</th>\n",
       "      <td>1</td>\n",
       "      <td>4</td>\n",
       "      <td>2</td>\n",
       "      <td>1403.0</td>\n",
       "      <td>1513.0</td>\n",
       "      <td>AA</td>\n",
       "      <td>428</td>\n",
       "      <td>N403AA</td>\n",
       "      <td>70.0</td>\n",
       "      <td>39.0</td>\n",
       "      <td>3.0</td>\n",
       "      <td>3.0</td>\n",
       "      <td>IAH</td>\n",
       "      <td>DFW</td>\n",
       "      <td>224</td>\n",
       "      <td>9.0</td>\n",
       "      <td>22.0</td>\n",
       "      <td>0</td>\n",
       "      <td>NaN</td>\n",
       "      <td>0</td>\n",
       "    </tr>\n",
       "    <tr>\n",
       "      <th>2011</th>\n",
       "      <td>1</td>\n",
       "      <td>5</td>\n",
       "      <td>3</td>\n",
       "      <td>1405.0</td>\n",
       "      <td>1507.0</td>\n",
       "      <td>AA</td>\n",
       "      <td>428</td>\n",
       "      <td>N492AA</td>\n",
       "      <td>62.0</td>\n",
       "      <td>44.0</td>\n",
       "      <td>-3.0</td>\n",
       "      <td>5.0</td>\n",
       "      <td>IAH</td>\n",
       "      <td>DFW</td>\n",
       "      <td>224</td>\n",
       "      <td>9.0</td>\n",
       "      <td>9.0</td>\n",
       "      <td>0</td>\n",
       "      <td>NaN</td>\n",
       "      <td>0</td>\n",
       "    </tr>\n",
       "  </tbody>\n",
       "</table>\n",
       "</div>"
      ],
      "text/plain": [
       "      Month  DayofMonth  DayOfWeek  DepTime  ArrTime UniqueCarrier  FlightNum  \\\n",
       "Year                                                                            \n",
       "2011      1           1          6   1400.0   1500.0            AA        428   \n",
       "2011      1           2          7   1401.0   1501.0            AA        428   \n",
       "2011      1           3          1   1352.0   1502.0            AA        428   \n",
       "2011      1           4          2   1403.0   1513.0            AA        428   \n",
       "2011      1           5          3   1405.0   1507.0            AA        428   \n",
       "\n",
       "     TailNum  ActualElapsedTime  AirTime  ArrDelay  DepDelay Origin Dest  \\\n",
       "Year                                                                       \n",
       "2011  N576AA               60.0     40.0     -10.0       0.0    IAH  DFW   \n",
       "2011  N557AA               60.0     45.0      -9.0       1.0    IAH  DFW   \n",
       "2011  N541AA               70.0     48.0      -8.0      -8.0    IAH  DFW   \n",
       "2011  N403AA               70.0     39.0       3.0       3.0    IAH  DFW   \n",
       "2011  N492AA               62.0     44.0      -3.0       5.0    IAH  DFW   \n",
       "\n",
       "      Distance  TaxiIn  TaxiOut  Cancelled CancellationCode  Diverted  \n",
       "Year                                                                   \n",
       "2011       224     7.0     13.0          0              NaN         0  \n",
       "2011       224     6.0      9.0          0              NaN         0  \n",
       "2011       224     5.0     17.0          0              NaN         0  \n",
       "2011       224     9.0     22.0          0              NaN         0  \n",
       "2011       224     9.0      9.0          0              NaN         0  "
      ]
     },
     "execution_count": 2,
     "metadata": {},
     "output_type": "execute_result"
    }
   ],
   "source": [
    "#starting point:import the library and data set\n",
    "import numpy as np\n",
    "import pandas as pd\n",
    "\n",
    "hflight ='https://raw.githubusercontent.com/jtopor/DAV-5400/master/Project1/hflights.csv'\n",
    "flights = pd.read_csv(hflight,index_col=0)\n",
    "# data set check - make sure data was read in as expected\n",
    "flights.head()"
   ]
  },
  {
   "cell_type": "markdown",
   "metadata": {
    "collapsed": true
   },
   "source": [
    "As the data base mentioned, the data set contains all ﬂights departing from Houston airports IAH (George Bush Intercontinental) and HOU (Houston Hobby) in 2011 .After checking the data, I decided to compare the performance of each airport.Since there are only two airports are involved, I may also compare with some airline performance within the airport. And Ideally I hope I can find the reasons behind the scenerio. "
   ]
  },
  {
   "cell_type": "markdown",
   "metadata": {
    "collapsed": true
   },
   "source": [
    "According to this goal of comparision on performance, three research questions are created and I decide to test performance based on the cancelliation by airport or airline,time spending on the ground and the total delay of the flight. "
   ]
  },
  {
   "cell_type": "markdown",
   "metadata": {
    "collapsed": true
   },
   "source": [
    "### Question 1 "
   ]
  },
  {
   "cell_type": "markdown",
   "metadata": {},
   "source": [
    "The first question I want to discover is that which airport has more cancellation rate and how it is impacted.\n",
    "By the experience of the flight, the canceliation is generally one of the worst conditions that affects the flight experience."
   ]
  },
  {
   "cell_type": "markdown",
   "metadata": {},
   "source": [
    "To explore the data, I firstly need to make sure how many cancellation are there in the data set. Due to the possibility that data set is not evenly distributed into two airports (which means that one airport will have more flight) To make comparision, the rate is much more preferred instead of the total number of cancellation. To get start, I filtered the data to get flight with cancellation."
   ]
  },
  {
   "cell_type": "code",
   "execution_count": 3,
   "metadata": {},
   "outputs": [
    {
     "name": "stdout",
     "output_type": "stream",
     "text": [
      "Month                224\n",
      "DayofMonth           224\n",
      "DayOfWeek            224\n",
      "DepTime                9\n",
      "ArrTime                0\n",
      "UniqueCarrier        224\n",
      "FlightNum            224\n",
      "TailNum              116\n",
      "ActualElapsedTime      0\n",
      "AirTime                0\n",
      "ArrDelay               0\n",
      "DepDelay               9\n",
      "Origin               224\n",
      "Dest                 224\n",
      "Distance             224\n",
      "TaxiIn                 0\n",
      "TaxiOut                4\n",
      "Cancelled            224\n",
      "CancellationCode     224\n",
      "Diverted             224\n",
      "dtype: int64\n"
     ]
    }
   ],
   "source": [
    "#create a copy for question 1 to make sure not messing up data\n",
    "flight1 = flights.copy()\n",
    "\n",
    "#creates subset of the flights data based on step 1\n",
    "Cancellation = flight1[ (flight1['Cancelled']==1) ]              \n",
    " #prints a sample of the data\n",
    "Cancellation.head()\n",
    "#check how many cancel of the whole data\n",
    "print(Cancellation.count())\n"
   ]
  },
  {
   "cell_type": "markdown",
   "metadata": {
    "collapsed": true
   },
   "source": [
    "There are 224 cancellation among these data set. And it is not too bad if considering less than 1% of the whole data set. Then I want to know which airport contributes more cancellation.To make a fair comparision, I also need to check the total numbers of flights by each airport. Then I can compute the cancellation rate."
   ]
  },
  {
   "cell_type": "code",
   "execution_count": 4,
   "metadata": {},
   "outputs": [
    {
     "name": "stdout",
     "output_type": "stream",
     "text": [
      "Origin\n",
      "HOU     4319\n",
      "IAH    15681\n",
      "Name: Origin, dtype: int64\n"
     ]
    }
   ],
   "source": [
    "#group data\n",
    "flight_airport = flight1.groupby(['Origin'])\n",
    "#then get number of total flights by each airport\n",
    "flight_per_airport = flight_airport['Origin'].count()\n",
    "print(flight_per_airport )"
   ]
  },
  {
   "cell_type": "code",
   "execution_count": 5,
   "metadata": {},
   "outputs": [
    {
     "name": "stdout",
     "output_type": "stream",
     "text": [
      "       Origin CancellationCode\n",
      "count     156              156\n",
      "unique      1                3\n",
      "top       IAH                B\n",
      "freq      156              122\n",
      "       Origin CancellationCode\n",
      "count      68               68\n",
      "unique      1                3\n",
      "top       HOU                B\n",
      "freq       68               40\n",
      "0.009948345131050315\n",
      "0.015744385274369065\n"
     ]
    }
   ],
   "source": [
    "Cancellation_airport=  Cancellation.loc[:,['Origin','CancellationCode']]\n",
    "#filter to be IAH airport only\n",
    "Cancellation_airport_IAH = Cancellation_airport[Cancellation_airport['Origin']=='IAH'] \n",
    "#filter to be HOU airport only\n",
    "Cancellation_airport_HOU =Cancellation_airport[Cancellation_airport['Origin']=='HOU']\n",
    "#print descriptive statistics for two airport canceliation\n",
    "print(Cancellation_airport_IAH.describe())\n",
    "print(Cancellation_airport_HOU.describe())\n",
    "#compute Cancellation rate by airport\n",
    "Cancellationrate_IAH= 156/15681\n",
    "Cancellationrate_HOU=  68/4319\n",
    "print(Cancellationrate_IAH)\n",
    "print(Cancellationrate_HOU)"
   ]
  },
  {
   "cell_type": "markdown",
   "metadata": {},
   "source": [
    "Among these 224 cancellations, there are 156 in IAH and 68 in HOU. For both airport, the weather is the main reason of canceliation, and it contributes 122 out of 156 cancellation in IAH and 40 out of 68 in HOU. Regarding the fact that HOU has 4319 flights in total and IAH has 15681 flights in Total,  HOU has bigger cancellation rate (1.57%)although it has lower total number of cancellations. I decide also explore more on the reasons of the cancellation."
   ]
  },
  {
   "cell_type": "code",
   "execution_count": 6,
   "metadata": {},
   "outputs": [
    {
     "name": "stdout",
     "output_type": "stream",
     "text": [
      "0.782051282051282\n",
      "0.5882352941176471\n"
     ]
    }
   ],
   "source": [
    "#print percentage of weather contributing to canceliation for both airports\n",
    "IAH_weather_rate=122/156 \n",
    "print(IAH_weather_rate)\n",
    "HOU_weather_rate=40/68\n",
    "print(HOU_weather_rate)"
   ]
  },
  {
   "cell_type": "markdown",
   "metadata": {},
   "source": [
    "Based on the computation, IAH is impacted more by weather condition, and 78.2% cancellation is due to the weather.Later we can explore further on the airline data."
   ]
  },
  {
   "cell_type": "code",
   "execution_count": 7,
   "metadata": {},
   "outputs": [
    {
     "name": "stdout",
     "output_type": "stream",
     "text": [
      "       UniqueCarrier CancellationCode\n",
      "count             57               57\n",
      "unique            11                1\n",
      "top               WN                A\n",
      "freq              23               57\n"
     ]
    }
   ],
   "source": [
    "#create subset of carrier and reasons of cancellation\n",
    "Cancellation_carrier = Cancellation.loc[:,['UniqueCarrier','CancellationCode']]\n",
    "#filter cancellation to be cause by airline\n",
    "Cancellation_carrier_A = Cancellation_carrier[Cancellation_carrier['CancellationCode']=='A']\n",
    "\n",
    "#get most frequent airline fault\n",
    "print(Cancellation_carrier_A.describe())\n"
   ]
  },
  {
   "cell_type": "markdown",
   "metadata": {
    "collapsed": true
   },
   "source": [
    "To explore more on these airline data, we can make bar plot on it"
   ]
  },
  {
   "cell_type": "code",
   "execution_count": 8,
   "metadata": {},
   "outputs": [
    {
     "name": "stdout",
     "output_type": "stream",
     "text": [
      "Axes(0.125,0.125;0.775x0.755)\n"
     ]
    }
   ],
   "source": [
    "#print bar plot (for some reason, the plot was showed in my Spyder instead of Juypter Notebook, and I assume the code is right)\n",
    "print(Cancellation_carrier_A['UniqueCarrier'].value_counts().plot.bar())"
   ]
  },
  {
   "cell_type": "markdown",
   "metadata": {},
   "source": [
    "Based on Bar chart above,top three airline on cancellation is WN,XE and EV. And WN is almost twice as the XE. "
   ]
  },
  {
   "cell_type": "markdown",
   "metadata": {},
   "source": [
    "##### Result:"
   ]
  },
  {
   "cell_type": "markdown",
   "metadata": {},
   "source": [
    "Based on the data above, IAH airport has a lower percentage of cancellation as compared with HOU.At the same time, HOU are less impacted by weather on cancellation.Among these airlines, WN, which is northwest, turns out to be the major airline make cancellation of their own reason."
   ]
  },
  {
   "cell_type": "markdown",
   "metadata": {},
   "source": [
    "### Question 2"
   ]
  },
  {
   "cell_type": "markdown",
   "metadata": {},
   "source": [
    "Along with the cancellation, another important factor impacts the flight experience is the time spent on the ground which includes taxi in and taxi out time. Based on the dataset,this on-ground time is also the subtraction of actual elaspe time and air time.In this case, I choose the subtraction of totalelapse and airtime instead of the sum of taxi in and out to be my ground time."
   ]
  },
  {
   "cell_type": "markdown",
   "metadata": {},
   "source": [
    "For the second research question,I want to explore their onground time for each airport, and by definition, The average lower on ground time provide a better performance."
   ]
  },
  {
   "cell_type": "code",
   "execution_count": 9,
   "metadata": {},
   "outputs": [
    {
     "data": {
      "text/html": [
       "<div>\n",
       "<style>\n",
       "    .dataframe thead tr:only-child th {\n",
       "        text-align: right;\n",
       "    }\n",
       "\n",
       "    .dataframe thead th {\n",
       "        text-align: left;\n",
       "    }\n",
       "\n",
       "    .dataframe tbody tr th {\n",
       "        vertical-align: top;\n",
       "    }\n",
       "</style>\n",
       "<table border=\"1\" class=\"dataframe\">\n",
       "  <thead>\n",
       "    <tr style=\"text-align: right;\">\n",
       "      <th></th>\n",
       "      <th>Onground</th>\n",
       "    </tr>\n",
       "  </thead>\n",
       "  <tbody>\n",
       "    <tr>\n",
       "      <th>count</th>\n",
       "      <td>19738.000000</td>\n",
       "    </tr>\n",
       "    <tr>\n",
       "      <th>mean</th>\n",
       "      <td>21.210964</td>\n",
       "    </tr>\n",
       "    <tr>\n",
       "      <th>std</th>\n",
       "      <td>8.493510</td>\n",
       "    </tr>\n",
       "    <tr>\n",
       "      <th>min</th>\n",
       "      <td>6.000000</td>\n",
       "    </tr>\n",
       "    <tr>\n",
       "      <th>25%</th>\n",
       "      <td>15.000000</td>\n",
       "    </tr>\n",
       "    <tr>\n",
       "      <th>50%</th>\n",
       "      <td>20.000000</td>\n",
       "    </tr>\n",
       "    <tr>\n",
       "      <th>75%</th>\n",
       "      <td>25.000000</td>\n",
       "    </tr>\n",
       "    <tr>\n",
       "      <th>max</th>\n",
       "      <td>176.000000</td>\n",
       "    </tr>\n",
       "  </tbody>\n",
       "</table>\n",
       "</div>"
      ],
      "text/plain": [
       "           Onground\n",
       "count  19738.000000\n",
       "mean      21.210964\n",
       "std        8.493510\n",
       "min        6.000000\n",
       "25%       15.000000\n",
       "50%       20.000000\n",
       "75%       25.000000\n",
       "max      176.000000"
      ]
     },
     "execution_count": 9,
     "metadata": {},
     "output_type": "execute_result"
    }
   ],
   "source": [
    "#create a copy for question 2 to make sure not messing up data\n",
    "flight2 = flights.copy()\n",
    "#creates Onground item in the data\n",
    "flight2['Onground'] = (flight2['ActualElapsedTime'] - flight2['AirTime']) \n",
    "#create the subset of Onground time and airport only\n",
    "Onground_time=flight2.loc[:,['Origin','Onground',]]\n",
    "Onground_time.describe()"
   ]
  },
  {
   "cell_type": "markdown",
   "metadata": {},
   "source": [
    "Read from the total data about both airports, it can be found that the mean is a bit greater than median, since the values are very close, the data is quite normal, and it is a bit skew to the right. And then I can seperate the data by airport)."
   ]
  },
  {
   "cell_type": "code",
   "execution_count": 10,
   "metadata": {},
   "outputs": [
    {
     "name": "stdout",
     "output_type": "stream",
     "text": [
      "           Onground\n",
      "count  15492.000000\n",
      "mean      23.081655\n",
      "std        8.219999\n",
      "min        8.000000\n",
      "25%       18.000000\n",
      "50%       21.000000\n",
      "75%       27.000000\n",
      "max      176.000000\n",
      "          Onground\n",
      "count  4246.000000\n",
      "mean     14.385539\n",
      "std       5.428622\n",
      "min       6.000000\n",
      "25%      11.000000\n",
      "50%      13.000000\n",
      "75%      16.000000\n",
      "max      74.000000\n"
     ]
    }
   ],
   "source": [
    "#filter to be IAH airport only\n",
    "Onground_time_airport_IAH = Onground_time[Onground_time['Origin']=='IAH'] \n",
    " #filter to be HOU airport only\n",
    "Onground_time_airport_HOU =Onground_time[Onground_time['Origin']=='HOU']\n",
    "#print descriptive statistics for two airport canceliation\n",
    "print(Onground_time_airport_IAH.describe())\n",
    "print(Onground_time_airport_HOU.describe())"
   ]
  },
  {
   "cell_type": "markdown",
   "metadata": {
    "collapsed": true
   },
   "source": [
    "Based on descrptive statistics of two airport seperately, we can tell that the mean of on ground time is greater than median for IAH , while the mean is smaller than median for HOU. On the other hand, the onground time for IAH is skewed to the right, but the onground time for HOU is skewed to the left. "
   ]
  },
  {
   "cell_type": "markdown",
   "metadata": {},
   "source": [
    "##### Result:"
   ]
  },
  {
   "cell_type": "markdown",
   "metadata": {},
   "source": [
    "As the data above showed, the HOU airport has a relatively low Onground time, and it means that customer can spend less extra time on travelling which gives better performance."
   ]
  },
  {
   "cell_type": "markdown",
   "metadata": {},
   "source": [
    "### Question 3"
   ]
  },
  {
   "cell_type": "markdown",
   "metadata": {},
   "source": [
    "For the third question, I tried to find the total delay of each flight by airport. And the flight with lower delay value provides a better performance.Firstly, I create the extra column of \"total delay\", which is the sum of the arrive delay and depart delay. Also, to avoid meaningless cancelled flight, I also filtered out the cancelled flight."
   ]
  },
  {
   "cell_type": "code",
   "execution_count": 11,
   "metadata": {
    "collapsed": true
   },
   "outputs": [],
   "source": [
    "#create a copy for question 3 to make sure not messing up data\n",
    "flight3 = flights.copy()\n",
    "#add \n",
    "#creates total delay item in the data\n",
    "flight3['TotalDelay'] = (flight3['ArrDelay'] + flight3['DepDelay']) \n"
   ]
  },
  {
   "cell_type": "code",
   "execution_count": 12,
   "metadata": {},
   "outputs": [
    {
     "data": {
      "text/html": [
       "<div>\n",
       "<style>\n",
       "    .dataframe thead tr:only-child th {\n",
       "        text-align: right;\n",
       "    }\n",
       "\n",
       "    .dataframe thead th {\n",
       "        text-align: left;\n",
       "    }\n",
       "\n",
       "    .dataframe tbody tr th {\n",
       "        vertical-align: top;\n",
       "    }\n",
       "</style>\n",
       "<table border=\"1\" class=\"dataframe\">\n",
       "  <thead>\n",
       "    <tr style=\"text-align: right;\">\n",
       "      <th></th>\n",
       "      <th>Month</th>\n",
       "      <th>DayofMonth</th>\n",
       "      <th>DayOfWeek</th>\n",
       "      <th>DepTime</th>\n",
       "      <th>ArrTime</th>\n",
       "      <th>UniqueCarrier</th>\n",
       "      <th>FlightNum</th>\n",
       "      <th>TailNum</th>\n",
       "      <th>ActualElapsedTime</th>\n",
       "      <th>AirTime</th>\n",
       "      <th>...</th>\n",
       "      <th>DepDelay</th>\n",
       "      <th>Origin</th>\n",
       "      <th>Dest</th>\n",
       "      <th>Distance</th>\n",
       "      <th>TaxiIn</th>\n",
       "      <th>TaxiOut</th>\n",
       "      <th>Cancelled</th>\n",
       "      <th>CancellationCode</th>\n",
       "      <th>Diverted</th>\n",
       "      <th>TotalDelay</th>\n",
       "    </tr>\n",
       "    <tr>\n",
       "      <th>Year</th>\n",
       "      <th></th>\n",
       "      <th></th>\n",
       "      <th></th>\n",
       "      <th></th>\n",
       "      <th></th>\n",
       "      <th></th>\n",
       "      <th></th>\n",
       "      <th></th>\n",
       "      <th></th>\n",
       "      <th></th>\n",
       "      <th></th>\n",
       "      <th></th>\n",
       "      <th></th>\n",
       "      <th></th>\n",
       "      <th></th>\n",
       "      <th></th>\n",
       "      <th></th>\n",
       "      <th></th>\n",
       "      <th></th>\n",
       "      <th></th>\n",
       "      <th></th>\n",
       "    </tr>\n",
       "  </thead>\n",
       "  <tbody>\n",
       "    <tr>\n",
       "      <th>2011</th>\n",
       "      <td>1</td>\n",
       "      <td>4</td>\n",
       "      <td>2</td>\n",
       "      <td>1403.0</td>\n",
       "      <td>1513.0</td>\n",
       "      <td>AA</td>\n",
       "      <td>428</td>\n",
       "      <td>N403AA</td>\n",
       "      <td>70.0</td>\n",
       "      <td>39.0</td>\n",
       "      <td>...</td>\n",
       "      <td>3.0</td>\n",
       "      <td>IAH</td>\n",
       "      <td>DFW</td>\n",
       "      <td>224</td>\n",
       "      <td>9.0</td>\n",
       "      <td>22.0</td>\n",
       "      <td>0</td>\n",
       "      <td>NaN</td>\n",
       "      <td>0</td>\n",
       "      <td>6.0</td>\n",
       "    </tr>\n",
       "    <tr>\n",
       "      <th>2011</th>\n",
       "      <td>1</td>\n",
       "      <td>5</td>\n",
       "      <td>3</td>\n",
       "      <td>1405.0</td>\n",
       "      <td>1507.0</td>\n",
       "      <td>AA</td>\n",
       "      <td>428</td>\n",
       "      <td>N492AA</td>\n",
       "      <td>62.0</td>\n",
       "      <td>44.0</td>\n",
       "      <td>...</td>\n",
       "      <td>5.0</td>\n",
       "      <td>IAH</td>\n",
       "      <td>DFW</td>\n",
       "      <td>224</td>\n",
       "      <td>9.0</td>\n",
       "      <td>9.0</td>\n",
       "      <td>0</td>\n",
       "      <td>NaN</td>\n",
       "      <td>0</td>\n",
       "      <td>2.0</td>\n",
       "    </tr>\n",
       "    <tr>\n",
       "      <th>2011</th>\n",
       "      <td>1</td>\n",
       "      <td>9</td>\n",
       "      <td>7</td>\n",
       "      <td>1443.0</td>\n",
       "      <td>1554.0</td>\n",
       "      <td>AA</td>\n",
       "      <td>428</td>\n",
       "      <td>N476AA</td>\n",
       "      <td>71.0</td>\n",
       "      <td>41.0</td>\n",
       "      <td>...</td>\n",
       "      <td>43.0</td>\n",
       "      <td>IAH</td>\n",
       "      <td>DFW</td>\n",
       "      <td>224</td>\n",
       "      <td>8.0</td>\n",
       "      <td>22.0</td>\n",
       "      <td>0</td>\n",
       "      <td>NaN</td>\n",
       "      <td>0</td>\n",
       "      <td>87.0</td>\n",
       "    </tr>\n",
       "    <tr>\n",
       "      <th>2011</th>\n",
       "      <td>1</td>\n",
       "      <td>10</td>\n",
       "      <td>1</td>\n",
       "      <td>1443.0</td>\n",
       "      <td>1553.0</td>\n",
       "      <td>AA</td>\n",
       "      <td>428</td>\n",
       "      <td>N504AA</td>\n",
       "      <td>70.0</td>\n",
       "      <td>45.0</td>\n",
       "      <td>...</td>\n",
       "      <td>43.0</td>\n",
       "      <td>IAH</td>\n",
       "      <td>DFW</td>\n",
       "      <td>224</td>\n",
       "      <td>6.0</td>\n",
       "      <td>19.0</td>\n",
       "      <td>0</td>\n",
       "      <td>NaN</td>\n",
       "      <td>0</td>\n",
       "      <td>86.0</td>\n",
       "    </tr>\n",
       "    <tr>\n",
       "      <th>2011</th>\n",
       "      <td>1</td>\n",
       "      <td>11</td>\n",
       "      <td>2</td>\n",
       "      <td>1429.0</td>\n",
       "      <td>1539.0</td>\n",
       "      <td>AA</td>\n",
       "      <td>428</td>\n",
       "      <td>N565AA</td>\n",
       "      <td>70.0</td>\n",
       "      <td>42.0</td>\n",
       "      <td>...</td>\n",
       "      <td>29.0</td>\n",
       "      <td>IAH</td>\n",
       "      <td>DFW</td>\n",
       "      <td>224</td>\n",
       "      <td>8.0</td>\n",
       "      <td>20.0</td>\n",
       "      <td>0</td>\n",
       "      <td>NaN</td>\n",
       "      <td>0</td>\n",
       "      <td>58.0</td>\n",
       "    </tr>\n",
       "  </tbody>\n",
       "</table>\n",
       "<p>5 rows × 21 columns</p>\n",
       "</div>"
      ],
      "text/plain": [
       "      Month  DayofMonth  DayOfWeek  DepTime  ArrTime UniqueCarrier  FlightNum  \\\n",
       "Year                                                                            \n",
       "2011      1           4          2   1403.0   1513.0            AA        428   \n",
       "2011      1           5          3   1405.0   1507.0            AA        428   \n",
       "2011      1           9          7   1443.0   1554.0            AA        428   \n",
       "2011      1          10          1   1443.0   1553.0            AA        428   \n",
       "2011      1          11          2   1429.0   1539.0            AA        428   \n",
       "\n",
       "     TailNum  ActualElapsedTime  AirTime     ...      DepDelay  Origin Dest  \\\n",
       "Year                                         ...                              \n",
       "2011  N403AA               70.0     39.0     ...           3.0     IAH  DFW   \n",
       "2011  N492AA               62.0     44.0     ...           5.0     IAH  DFW   \n",
       "2011  N476AA               71.0     41.0     ...          43.0     IAH  DFW   \n",
       "2011  N504AA               70.0     45.0     ...          43.0     IAH  DFW   \n",
       "2011  N565AA               70.0     42.0     ...          29.0     IAH  DFW   \n",
       "\n",
       "     Distance  TaxiIn  TaxiOut  Cancelled  CancellationCode Diverted  \\\n",
       "Year                                                                   \n",
       "2011      224     9.0     22.0          0               NaN        0   \n",
       "2011      224     9.0      9.0          0               NaN        0   \n",
       "2011      224     8.0     22.0          0               NaN        0   \n",
       "2011      224     6.0     19.0          0               NaN        0   \n",
       "2011      224     8.0     20.0          0               NaN        0   \n",
       "\n",
       "      TotalDelay  \n",
       "Year              \n",
       "2011         6.0  \n",
       "2011         2.0  \n",
       "2011        87.0  \n",
       "2011        86.0  \n",
       "2011        58.0  \n",
       "\n",
       "[5 rows x 21 columns]"
      ]
     },
     "execution_count": 12,
     "metadata": {},
     "output_type": "execute_result"
    }
   ],
   "source": [
    "#creates subset of total delay and filter out the canceled flight.\n",
    "totaldelay = flight3[(flight3['TotalDelay']>0) & (flight3['Cancelled']==0)]              \n",
    "#prints a sample of the data\n",
    "totaldelay.head()"
   ]
  },
  {
   "cell_type": "markdown",
   "metadata": {
    "collapsed": true
   },
   "source": [
    "After getting the total delay data, I then created bar charts by each airport."
   ]
  },
  {
   "cell_type": "code",
   "execution_count": 13,
   "metadata": {},
   "outputs": [
    {
     "name": "stdout",
     "output_type": "stream",
     "text": [
      "Axes(0.125,0.125;0.775x0.755)\n"
     ]
    }
   ],
   "source": [
    "#get the median of departure delay grouped by airport\n",
    "totaldelay_median = totaldelay.groupby(['Origin']).median()['TotalDelay'] \n",
    " #plots a bar chart for median total delay (similar to previous graph,work in my Spyder)\n",
    "print(totaldelay_median.plot.bar())"
   ]
  },
  {
   "cell_type": "code",
   "execution_count": 14,
   "metadata": {},
   "outputs": [
    {
     "name": "stdout",
     "output_type": "stream",
     "text": [
      "Axes(0.125,0.125;0.775x0.755)\n"
     ]
    }
   ],
   "source": [
    "#get the mean of departure delay grouped by airport\n",
    "totaldelay_median = totaldelay.groupby(['Origin']).mean()['TotalDelay'] \n",
    " #plots a bar chart for mean total delay\n",
    "print(totaldelay_median.plot.bar())"
   ]
  },
  {
   "cell_type": "markdown",
   "metadata": {},
   "source": [
    "Through these two bar charts, it is easy to tell that for both airport, the mean is significantly larger than median, which means that the data is skewed to the right. And these difference showed that there are some extreme values to make the data not quite normal. So for decide the average, I decide to use the median instead of the regular mean. Also,based on this bar chart, we can tell that HOU airport has higher average total delay.To have a complete view of statistical data, then I plot the descriptive statistics data for both airports. "
   ]
  },
  {
   "cell_type": "code",
   "execution_count": 15,
   "metadata": {},
   "outputs": [
    {
     "name": "stdout",
     "output_type": "stream",
     "text": [
      "count    7349.000000\n",
      "mean       36.062457\n",
      "std        60.088941\n",
      "min         1.000000\n",
      "25%         7.000000\n",
      "50%        17.000000\n",
      "75%        40.000000\n",
      "max      1555.000000\n",
      "Name: TotalDelay, dtype: float64\n",
      "count    2500.000000\n",
      "mean       43.180400\n",
      "std        52.211354\n",
      "min         1.000000\n",
      "25%        10.000000\n",
      "50%        26.000000\n",
      "75%        55.000000\n",
      "max       487.000000\n",
      "Name: TotalDelay, dtype: float64\n"
     ]
    }
   ],
   "source": [
    "#filter to get IAH airport \n",
    "totaldelay_airport_IAH = totaldelay[totaldelay['Origin']=='IAH'] \n",
    "#filter to get HOU airport\n",
    "totaldelay_airport_HOU =totaldelay[totaldelay['Origin']=='HOU']\n",
    "#print descriptive statistics for two airport totaldelay\n",
    "print(totaldelay_airport_IAH['TotalDelay'].describe())\n",
    "print(totaldelay_airport_HOU['TotalDelay'].describe())"
   ]
  },
  {
   "cell_type": "markdown",
   "metadata": {},
   "source": [
    "These maximum and minimum value verified the assumption of the data and the dataset does spread a lot. "
   ]
  },
  {
   "cell_type": "markdown",
   "metadata": {
    "collapsed": true
   },
   "source": [
    "##### Result:"
   ]
  },
  {
   "cell_type": "markdown",
   "metadata": {
    "collapsed": true
   },
   "source": [
    "Based on these data above, IAH has a lower average total delay value,and it is about 30% lower than HOU. In this case, the IAH definitely has a better performance."
   ]
  },
  {
   "cell_type": "markdown",
   "metadata": {},
   "source": [
    "### Conclusion"
   ]
  },
  {
   "cell_type": "markdown",
   "metadata": {
    "collapsed": true
   },
   "source": [
    "By answering three questions and explore various type of data, in my opinion,these three research questions provide the part of view how the customer may expect on the flight,which is stable on schedule,and travel on time.For the further exploration,if the data set can provide the revenue, and it may be also useful for computing the price per distance.Overall, I would like to say that IAH has a better performance overall.\n",
    "HOU showed better performance on onground time but get relatively low score on total delay or cancellation rate. In cancelation data, since HOU has lower rate of weather caused cancellation(58.8%) than IAH's (78%), HOU has potential to improve the system on it for its relatively better weather conditions.Also, HOU need to work harder on dealing with total delay.The delay at HOU is quite dramatical. "
   ]
  }
 ],
 "metadata": {
  "kernelspec": {
   "display_name": "Python 3",
   "language": "python",
   "name": "python3"
  },
  "language_info": {
   "codemirror_mode": {
    "name": "ipython",
    "version": 3
   },
   "file_extension": ".py",
   "mimetype": "text/x-python",
   "name": "python",
   "nbconvert_exporter": "python",
   "pygments_lexer": "ipython3",
   "version": "3.6.1"
  }
 },
 "nbformat": 4,
 "nbformat_minor": 2
}
