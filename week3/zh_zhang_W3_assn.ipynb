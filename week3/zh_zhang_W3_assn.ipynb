{
 "cells": [
  {
   "cell_type": "markdown",
   "metadata": {
    "collapsed": true
   },
   "source": [
    "## Week 3 Assignment"
   ]
  },
  {
   "cell_type": "markdown",
   "metadata": {},
   "source": [
    "### List Comprehensions"
   ]
  },
  {
   "cell_type": "markdown",
   "metadata": {},
   "source": [
    "#### Task1"
   ]
  },
  {
   "cell_type": "code",
   "execution_count": 1,
   "metadata": {},
   "outputs": [
    {
     "name": "stdout",
     "output_type": "stream",
     "text": [
      "[['high', 'high', '2', '4', 'med', 'low', 'unacc'], ['high', 'high', '4', 'more', 'small', 'high', 'acc'], ['high', 'high', '4', 'more', 'big', 'low', 'unacc'], ['high', 'low', '2', 'more', 'big', 'high', 'acc'], ['vhigh', 'low', '3', '2', 'med', 'med', 'unacc'], ['low', 'high', '2', '2', 'small', 'low', 'unacc'], ['med', 'med', '4', 'more', 'med', 'high', 'vgood'], ['low', 'low', '3', '2', 'big', 'med', 'unacc'], ['vhigh', 'low', '2', '2', 'small', 'low', 'unacc'], ['vhigh', 'high', '4', '4', 'med', 'low', 'unacc'], ['low', 'low', '2', '2', 'med', 'med', 'unacc'], ['vhigh', 'low', '4', 'more', 'small', 'high', 'acc'], ['high', 'low', '2', '4', 'big', 'med', 'acc'], ['low', 'vhigh', '3', 'more', 'big', 'low', 'unacc'], ['high', 'low', '5more', '2', 'big', 'med', 'unacc'], ['vhigh', 'high', '2', 'more', 'med', 'high', 'unacc'], ['med', 'med', '2', '2', 'small', 'low', 'unacc'], ['high', 'low', '5more', '4', 'med', 'high', 'acc'], ['low', 'low', '3', 'more', 'med', 'high', 'vgood'], ['low', 'low', '2', '2', 'big', 'med', 'unacc'], ['med', 'high', '4', '2', 'big', 'high', 'unacc'], ['low', 'low', '2', '2', 'small', 'high', 'unacc'], ['vhigh', 'high', '5more', '4', 'med', 'med', 'unacc'], ['med', 'vhigh', '2', '2', 'big', 'low', 'unacc'], ['low', 'vhigh', '4', '4', 'big', 'low', 'unacc'], ['vhigh', 'low', '3', 'more', 'big', 'low', 'unacc'], ['med', 'vhigh', '3', '4', 'small', 'low', 'unacc'], ['high', 'high', '3', '4', 'med', 'med', 'unacc'], ['low', 'high', '5more', '2', 'big', 'low', 'unacc'], ['med', 'high', '5more', '2', 'med', 'med', 'unacc'], ['high', 'low', '3', '4', 'med', 'high', 'acc'], ['high', 'vhigh', '5more', '4', 'med', 'med', 'unacc'], ['low', 'low', '5more', '2', 'med', 'low', 'unacc'], ['vhigh', 'vhigh', '4', '2', 'big', 'high', 'unacc'], ['high', 'low', '3', '2', 'big', 'high', 'unacc']]\n"
     ]
    }
   ],
   "source": [
    "#template from last assignment and changed to list comprehension\n",
    "import csv\n",
    "with open(r'C:\\Users\\admin\\Documents\\GitHub\\DAV-5400\\week2\\cars-sample35.txt') as csvfile:\n",
    "    readCSV = csv.reader(csvfile)\n",
    "    r=  [row for row in readCSV]\n",
    "        # print each row as read by the csv.reader function\n",
    "    print(r)\n",
    "        "
   ]
  },
  {
   "cell_type": "code",
   "execution_count": 2,
   "metadata": {},
   "outputs": [
    {
     "name": "stdout",
     "output_type": "stream",
     "text": [
      "[6, 16, 20, 23, 26, 29]\n"
     ]
    }
   ],
   "source": [
    "#Task 1 find the list index values of each automobile having a price rating of \"med\". \n",
    "#firstly using last week homework as template\n",
    "import csv\n",
    "#make empty list    \n",
    "Price = []\n",
    "Maintenancecost = []\n",
    "num_door = []\n",
    "num_passengers = []\n",
    "Luggage_cap = []\n",
    "safety_rating = []\n",
    "class_veh = []\n",
    "#make list firstly\n",
    "with open(r'C:\\Users\\admin\\Documents\\GitHub\\DAV-5400\\week2\\cars-sample35.txt') as csvfile:\n",
    "    readCSV = csv.reader(csvfile)\n",
    "    for row in readCSV:\n",
    "        Price.append(row[0])\n",
    "        Maintenancecost.append(row[1])\n",
    "        num_door.append(row[2])\n",
    "        num_passengers.append(row[3])\n",
    "        Luggage_cap.append(row[4])\n",
    "        safety_rating.append(row[5])\n",
    "        class_veh.append(row[6])\n",
    "        \n",
    " #using list comprehension replace for loop.       \n",
    "t2_index = [ i for i in range(len(Price))if Price[i] == 'med']\n",
    "#get result\n",
    "print(t2_index)"
   ]
  },
  {
   "cell_type": "markdown",
   "metadata": {},
   "source": [
    "For task 1,the result turns to be location 6,16,20,23,26,29 which means on 7th, 17th,21st,24th,27th and 30th row of the column, the vehicle has a price rating of 'med'."
   ]
  },
  {
   "cell_type": "code",
   "execution_count": 3,
   "metadata": {},
   "outputs": [
    {
     "name": "stdout",
     "output_type": "stream",
     "text": [
      "['more', '2', '2', '2', '4', '2']\n"
     ]
    }
   ],
   "source": [
    "#Task2 is to find the \"number of passengers\" value for each auto having a \"price\" value of \"med\" using a list comprehension instead of a basic for or while loop\n",
    "#using list comprehension replace for loop\n",
    "\n",
    "#since it has a price value of \"med\", we can use previous question process and then change to list comprehension\n",
    "t3_passengers = [ num_passengers[i] for i in t2_index]\n",
    "#get result\n",
    "print(t3_passengers)"
   ]
  },
  {
   "cell_type": "markdown",
   "metadata": {
    "collapsed": true
   },
   "source": [
    "For task2, based on the result, number of passengers can hold for each cars are four more,2,2,2,4, and 2 seperately."
   ]
  },
  {
   "cell_type": "code",
   "execution_count": null,
   "metadata": {
    "collapsed": true
   },
   "outputs": [],
   "source": [
    "#Task3 find the index value for each automobile having a price value of \"high\" and a maintenance value that is not\"low\"using a list comprehension. \n",
    "\n",
    "#similar to task2,using similar way to change from last week for loop\n",
    "\n",
    "t4_index = [ i for i in range(len(Price))if Price[i] == 'high' and Maintenancecost[i]  != 'low']\n",
    "#get result\n",
    "print(t4_index)\n"
   ]
  },
  {
   "cell_type": "markdown",
   "metadata": {},
   "source": [
    "For task3, based on the result, for each automobile having a price value of \"high\" and a maintenance value that is not\"low\", there are at 1st,2nd,3rd,28th,and 32nd row of the data."
   ]
  },
  {
   "cell_type": "markdown",
   "metadata": {},
   "source": [
    "### Nested List Comprehensions"
   ]
  },
  {
   "cell_type": "code",
   "execution_count": 3,
   "metadata": {},
   "outputs": [
    {
     "name": "stdout",
     "output_type": "stream",
     "text": [
      "[1, 2, 3, 'A', 'B', 'C', 4, 5, 'D', 'E']\n"
     ]
    }
   ],
   "source": [
    "#task4 implement this same logic using a list comprehension.Apply your list comprehension to the nlist list of lists shown above.\n",
    "#create a new list first followed from text\n",
    "nlist = [[1,2,3],['A','B','C'],[4,5],['D'],['E']]\n",
    "\n",
    "#extract each individual element of the component lists contained within nlist, and add to a new list\n",
    "flist=[y for x in nlist for y in x ]\n",
    "#get result\n",
    "print(flist)"
   ]
  },
  {
   "cell_type": "markdown",
   "metadata": {},
   "source": [
    "The result is [1, 2, 3, 'A', 'B', 'C', 4, 5, 'D', 'E']"
   ]
  },
  {
   "cell_type": "markdown",
   "metadata": {},
   "source": [
    "### Write a FunctionThat Converts a List to a Dict Object"
   ]
  },
  {
   "cell_type": "code",
   "execution_count": 9,
   "metadata": {},
   "outputs": [],
   "source": [
    "#task5 create a user defined function that accepts as input one of the seven automobile attribute lists as well as an integer value\n",
    "# and returns a Python dictobject\n",
    "\n",
    "#define a function from template\n",
    "newdict = {}\n",
    "def makedict(mylist,i):  \n",
    "    '''this function take the first i items from mylist to create the new dict object. The function generates a list of dictionary items when  integer value does not exceed the length of parameter\n",
    "     '''\n",
    "    # check that the integer value passed does not exceed the length of the list parameter\n",
    "    while i < len(mylist):\n",
    "        # take the first i items from mylist to create the new dict object.\n",
    "        newdict = {'A'+ str(i):mylist[i] for i in range(i)}\n",
    "    \n",
    "        return(newdict)\n",
    "\n"
   ]
  },
  {
   "cell_type": "code",
   "execution_count": 10,
   "metadata": {},
   "outputs": [
    {
     "name": "stdout",
     "output_type": "stream",
     "text": [
      "{'A0': 'med', 'A1': 'small', 'A2': 'big', 'A3': 'big', 'A4': 'med'}\n"
     ]
    }
   ],
   "source": [
    "#check code with the example\n",
    "print(makedict(Luggage_cap, 5))"
   ]
  },
  {
   "cell_type": "markdown",
   "metadata": {
    "collapsed": true
   },
   "source": [
    "We get the same answer as example did. Function is working"
   ]
  },
  {
   "cell_type": "markdown",
   "metadata": {
    "collapsed": true
   },
   "source": [
    "### Using Your New Function "
   ]
  },
  {
   "cell_type": "code",
   "execution_count": 11,
   "metadata": {},
   "outputs": [
    {
     "name": "stdout",
     "output_type": "stream",
     "text": [
      "{'A0': 'high', 'A1': 'high', 'A2': 'high', 'A3': 'high', 'A4': 'vhigh', 'A5': 'low', 'A6': 'med'}\n",
      "{'A0': 'med', 'A1': 'small', 'A2': 'big', 'A3': 'big', 'A4': 'med', 'A5': 'small', 'A6': 'med'}\n"
     ]
    }
   ],
   "source": [
    "#task6  create two new dict objects containing the first seven elements of the ‘Price’ and ‘Luggage’ lists\n",
    "\n",
    "\n",
    "# Create a dict that contain seven elements of ‘Price’lists\n",
    "dict_price = makedict(Price,7)\n",
    "\n",
    "# Create a dict that contain seven elements of‘Luggage’list\n",
    "dict_luggage = makedict(Luggage_cap,7)\n",
    "\n",
    "print(dict_price)\n",
    "\n",
    "print(dict_luggage)\n",
    "\n"
   ]
  },
  {
   "cell_type": "code",
   "execution_count": 12,
   "metadata": {},
   "outputs": [
    {
     "name": "stdout",
     "output_type": "stream",
     "text": [
      "vhigh\n",
      "med\n"
     ]
    }
   ],
   "source": [
    "# print the price and luggage capacity of the auto identified by the ‘A4’ key value. \n",
    "print(dict_price['A4'])\n",
    "print(dict_luggage['A4'])"
   ]
  },
  {
   "cell_type": "markdown",
   "metadata": {},
   "source": [
    "Therefore,the price and luggage capacity of the auto identified by the ‘A4’ key value are very high and medium seperately. "
   ]
  },
  {
   "cell_type": "code",
   "execution_count": null,
   "metadata": {
    "collapsed": true
   },
   "outputs": [],
   "source": []
  }
 ],
 "metadata": {
  "kernelspec": {
   "display_name": "Python 3",
   "language": "python",
   "name": "python3"
  },
  "language_info": {
   "codemirror_mode": {
    "name": "ipython",
    "version": 3
   },
   "file_extension": ".py",
   "mimetype": "text/x-python",
   "name": "python",
   "nbconvert_exporter": "python",
   "pygments_lexer": "ipython3",
   "version": "3.6.1"
  }
 },
 "nbformat": 4,
 "nbformat_minor": 2
}
