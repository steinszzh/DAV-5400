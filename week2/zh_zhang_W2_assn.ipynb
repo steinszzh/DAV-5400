{
 "cells": [
  {
   "cell_type": "markdown",
   "metadata": {},
   "source": [
    "## week 2 "
   ]
  },
  {
   "cell_type": "code",
   "execution_count": 1,
   "metadata": {},
   "outputs": [
    {
     "name": "stdout",
     "output_type": "stream",
     "text": [
      "['high', 'high', '2', '4', 'med', 'low', 'unacc']\n",
      "['high', 'high', '4', 'more', 'small', 'high', 'acc']\n",
      "['high', 'high', '4', 'more', 'big', 'low', 'unacc']\n",
      "['high', 'low', '2', 'more', 'big', 'high', 'acc']\n",
      "['vhigh', 'low', '3', '2', 'med', 'med', 'unacc']\n",
      "['low', 'high', '2', '2', 'small', 'low', 'unacc']\n",
      "['med', 'med', '4', 'more', 'med', 'high', 'vgood']\n",
      "['low', 'low', '3', '2', 'big', 'med', 'unacc']\n",
      "['vhigh', 'low', '2', '2', 'small', 'low', 'unacc']\n",
      "['vhigh', 'high', '4', '4', 'med', 'low', 'unacc']\n",
      "['low', 'low', '2', '2', 'med', 'med', 'unacc']\n",
      "['vhigh', 'low', '4', 'more', 'small', 'high', 'acc']\n",
      "['high', 'low', '2', '4', 'big', 'med', 'acc']\n",
      "['low', 'vhigh', '3', 'more', 'big', 'low', 'unacc']\n",
      "['high', 'low', '5more', '2', 'big', 'med', 'unacc']\n",
      "['vhigh', 'high', '2', 'more', 'med', 'high', 'unacc']\n",
      "['med', 'med', '2', '2', 'small', 'low', 'unacc']\n",
      "['high', 'low', '5more', '4', 'med', 'high', 'acc']\n",
      "['low', 'low', '3', 'more', 'med', 'high', 'vgood']\n",
      "['low', 'low', '2', '2', 'big', 'med', 'unacc']\n",
      "['med', 'high', '4', '2', 'big', 'high', 'unacc']\n",
      "['low', 'low', '2', '2', 'small', 'high', 'unacc']\n",
      "['vhigh', 'high', '5more', '4', 'med', 'med', 'unacc']\n",
      "['med', 'vhigh', '2', '2', 'big', 'low', 'unacc']\n",
      "['low', 'vhigh', '4', '4', 'big', 'low', 'unacc']\n",
      "['vhigh', 'low', '3', 'more', 'big', 'low', 'unacc']\n",
      "['med', 'vhigh', '3', '4', 'small', 'low', 'unacc']\n",
      "['high', 'high', '3', '4', 'med', 'med', 'unacc']\n",
      "['low', 'high', '5more', '2', 'big', 'low', 'unacc']\n",
      "['med', 'high', '5more', '2', 'med', 'med', 'unacc']\n",
      "['high', 'low', '3', '4', 'med', 'high', 'acc']\n",
      "['high', 'vhigh', '5more', '4', 'med', 'med', 'unacc']\n",
      "['low', 'low', '5more', '2', 'med', 'low', 'unacc']\n",
      "['vhigh', 'vhigh', '4', '2', 'big', 'high', 'unacc']\n",
      "['high', 'low', '3', '2', 'big', 'high', 'unacc']\n"
     ]
    }
   ],
   "source": [
    "#template from starting point\n",
    "import csv\n",
    "with open(r'C:\\Users\\admin\\Documents\\GitHub\\DAV-5400\\week2\\cars-sample35.txt') as csvfile:\n",
    "    readCSV = csv.reader(csvfile)\n",
    "    for row in readCSV:\n",
    "        # print each row as read by the csv.reader function\n",
    "        print(row)\n"
   ]
  },
  {
   "cell_type": "markdown",
   "metadata": {},
   "source": [
    "Try to seperate these seven items in these category,Price,Maintenance cost,Number of doors,Number of passengers,Luggage capacity,Safety rating,Classification of vehicle"
   ]
  },
  {
   "cell_type": "code",
   "execution_count": 2,
   "metadata": {},
   "outputs": [
    {
     "name": "stdout",
     "output_type": "stream",
     "text": [
      "['2', '4', '4', '2', '3', '2', '4', '3', '2', '4', '2', '4', '2', '3', '5more', '2', '2', '5more', '3', '2', '4', '2', '5more', '2', '4', '3', '3', '3', '5more', '5more', '3', '5more', '5more', '4', '3']\n"
     ]
    }
   ],
   "source": [
    "#task 1 seperate the value\n",
    "import csv\n",
    "#make empty list    \n",
    "Price = []\n",
    "Maintenancecost = []\n",
    "num_door = []\n",
    "num_passengers = []\n",
    "Luggage_cap = []\n",
    "safety_rating = []\n",
    "class_veh = []\n",
    "with open(r'C:\\Users\\admin\\Documents\\GitHub\\DAV-5400\\week2\\cars-sample35.txt') as csvfile:\n",
    "    readCSV = csv.reader(csvfile)\n",
    "    for row in readCSV:\n",
    "        Price.append(row[0])\n",
    "        Maintenancecost.append(row[1])\n",
    "        num_door.append(row[2])\n",
    "        num_passengers.append(row[3])\n",
    "        Luggage_cap.append(row[4])\n",
    "        safety_rating.append(row[5])\n",
    "        class_veh.append(row[6])\n",
    "       \n",
    "    #for test reason \n",
    "print(num_door)\n"
   ]
  },
  {
   "cell_type": "code",
   "execution_count": 3,
   "metadata": {},
   "outputs": [
    {
     "name": "stdout",
     "output_type": "stream",
     "text": [
      "35\n",
      "[6, 16, 20, 23, 26, 29]\n"
     ]
    }
   ],
   "source": [
    "#task 2 find the list index values of each automobile having a price rating of \"med\". \n",
    "#check length\n",
    "print(len(Price))\n",
    "#try to print all occurence for the fact that index only find the first occurence\n",
    "#set up new empty list\n",
    "t2_index=[]\n",
    "for i in range(len(Price)):    \n",
    "    if Price[i] == 'med':\n",
    "        t2_index.append(i)  \n",
    "print(t2_index)"
   ]
  },
  {
   "cell_type": "markdown",
   "metadata": {},
   "source": [
    "For task 2,the result turns to be location 6,16,20,23,26,29 which means on 7th, 17th,21st,24th,27th and 30th row of the column, the vehicle has a price rating of ''med."
   ]
  },
  {
   "cell_type": "code",
   "execution_count": 4,
   "metadata": {},
   "outputs": [
    {
     "name": "stdout",
     "output_type": "stream",
     "text": [
      "['more', '2', '2', '2', '4', '2']\n"
     ]
    }
   ],
   "source": [
    "#task 3 find the \"number of passengers\" value for each auto having a \"price\" value of \"med\".\n",
    "#make a new list first\n",
    "t3_passengers = []\n",
    "for i in range(len(Price)):\n",
    "    if Price[i] =='med':\n",
    "        t3_passengers.append(num_passengers[i])\n",
    "print(t3_passengers)"
   ]
  },
  {
   "cell_type": "markdown",
   "metadata": {},
   "source": [
    "For task3, based on the result, number of passengers can hold for each cars are five more,2,2,2,4, and 2 seperately."
   ]
  },
  {
   "cell_type": "code",
   "execution_count": 5,
   "metadata": {},
   "outputs": [
    {
     "name": "stdout",
     "output_type": "stream",
     "text": [
      "[0, 1, 2, 3, 12, 14, 17, 27, 30, 31, 34]\n"
     ]
    }
   ],
   "source": [
    "#task4 find the index value for each automobile having a price value of \"high\" and a maintenance value that is not\"low\"\n",
    "#similar to task2,set up a new list of index first\n",
    "t4_index = []\n",
    "for i in range(len(Price)):\n",
    "    #except change med to hign also add logical term to satisfy both conditions\n",
    "    if Price[i] =='high'and Maintenancecost !='low':\n",
    "        t4_index.append(i)\n",
    "print(t4_index)\n",
    "\n"
   ]
  },
  {
   "cell_type": "markdown",
   "metadata": {},
   "source": [
    "For task4, based on the result, for each automobile having a price value of \"high\" and a maintenance value that is not\"low\", there are at 1st,2nd,3rd,4th,13rd,15th,18th,28th,31st,32nd,and 35th row of the data."
   ]
  },
  {
   "cell_type": "code",
   "execution_count": 6,
   "metadata": {},
   "outputs": [
    {
     "name": "stdout",
     "output_type": "stream",
     "text": [
      "[3, 12, 19, 23]\n"
     ]
    }
   ],
   "source": [
    "#task5 find the index value for each auto having 2 doors and a luggage value of \"big\"\n",
    "#similar to task 4,whole code set up is the same,then revise a bit.\n",
    "t5_index = []\n",
    "for i in range(len(Price)):\n",
    "    if num_door[i] == '2' and Luggage_cap[i]=='big':\n",
    "        t5_index.append(i)\n",
    "print(t5_index)\n",
    "\n",
    "\n"
   ]
  },
  {
   "cell_type": "markdown",
   "metadata": {},
   "source": [
    "For task 5,the index value for each auto having 2 doors and a luggage value of \"big\" are at location 4th,13th,20th,and 24th row of data."
   ]
  },
  {
   "cell_type": "code",
   "execution_count": 7,
   "metadata": {},
   "outputs": [
    {
     "name": "stdout",
     "output_type": "stream",
     "text": [
      "[2, 4, 4, 2, 3, 2, 4, 3, 2, 4, 2, 4, 2, 3, 5, 2, 2, 5, 3, 2, 4, 2, 5, 2, 4, 3, 3, 3, 5, 5, 3, 5, 5, 4, 3]\n",
      "3.3142857142857145\n"
     ]
    }
   ],
   "source": [
    "#task6 calculate the average number of doors across all 35 autos \n",
    "\n",
    "#firstly,convert all 5 more into 5.\n",
    "t6_num_door = []\n",
    "for i in range(len(num_door)):\n",
    "    if num_door[i] == '5more' :\n",
    "        #try to convert 5more into interger\n",
    "        num_door[i] = 5\n",
    "    t6_num_door.append(int(num_door[i]))\n",
    "    #get all door value\n",
    "print(t6_num_door)\n",
    "        \n",
    "#calculate the average num of door\n",
    "ave_num_door=sum(t6_num_door)/len(num_door)\n",
    "print(ave_num_door)\n",
    "\n"
   ]
  },
  {
   "cell_type": "markdown",
   "metadata": {},
   "source": [
    "For task 6, the average door number is 3.3142857142857145."
   ]
  }
 ],
 "metadata": {
  "kernelspec": {
   "display_name": "Python 3",
   "language": "python",
   "name": "python3"
  },
  "language_info": {
   "codemirror_mode": {
    "name": "ipython",
    "version": 3
   },
   "file_extension": ".py",
   "mimetype": "text/x-python",
   "name": "python",
   "nbconvert_exporter": "python",
   "pygments_lexer": "ipython3",
   "version": "3.6.1"
  },
  "widgets": {
   "application/vnd.jupyter.widget-state+json": {
    "state": {},
    "version_major": 1,
    "version_minor": 0
   }
  }
 },
 "nbformat": 4,
 "nbformat_minor": 2
}
