{
 "cells": [
  {
   "cell_type": "markdown",
   "metadata": {
    "collapsed": true
   },
   "source": [
    "## Week 4 Assignment"
   ]
  },
  {
   "cell_type": "code",
   "execution_count": 2,
   "metadata": {
    "collapsed": true
   },
   "outputs": [],
   "source": [
    "#set up the basic package\n",
    "import numpy as np"
   ]
  },
  {
   "cell_type": "markdown",
   "metadata": {},
   "source": [
    "#### Task1"
   ]
  },
  {
   "cell_type": "code",
   "execution_count": 4,
   "metadata": {},
   "outputs": [
    {
     "name": "stdout",
     "output_type": "stream",
     "text": [
      "[2 4]\n"
     ]
    }
   ],
   "source": [
    "#Write a Python/NumPy code block that finds the distinct/unique common items between these two arrays\n",
    "\n",
    "#follow instruction to set up two arrays.\n",
    "a = np.array([1,2,3,2,3,4,3,4,5,6])\n",
    "b= np.array([7,2,10,2,7,4,9,4,9,8])\n",
    "\n",
    "\n",
    "# using np.intersect1d to find the distinct common values between two array\n",
    "print(np.intersect1d(a,b))\n"
   ]
  },
  {
   "cell_type": "markdown",
   "metadata": {},
   "source": [
    "Based on the result, distinct items are 2 and 4."
   ]
  },
  {
   "cell_type": "markdown",
   "metadata": {},
   "source": [
    "#### Task2"
   ]
  },
  {
   "cell_type": "code",
   "execution_count": 12,
   "metadata": {},
   "outputs": [
    {
     "name": "stdout",
     "output_type": "stream",
     "text": [
      "[[ 1  6 11]\n",
      " [ 2  7 12]\n",
      " [ 3  8 13]\n",
      " [ 4  9 14]\n",
      " [ 5 10 15]]\n"
     ]
    }
   ],
   "source": [
    "#Createthe following 5x3array using Python’s / NumPy’s  sequencing functionality \n",
    "\n",
    "#step 1: using one line of code to create array \"a\" ranged from 1 to 15,in 3*5 shape. \n",
    "a = np.arange(1,16).reshape(3,5)\n",
    "# Reshape it by using transpose\n",
    "print(a.T)\n",
    "\n",
    "\n",
    "\n"
   ]
  },
  {
   "cell_type": "markdown",
   "metadata": {},
   "source": [
    "As the result shows, we get the array as the graph showed."
   ]
  },
  {
   "cell_type": "markdown",
   "metadata": {},
   "source": [
    "#### Task3"
   ]
  },
  {
   "cell_type": "code",
   "execution_count": 14,
   "metadata": {},
   "outputs": [
    {
     "data": {
      "text/plain": [
       "array([ 1,  7,  8, 15])"
      ]
     },
     "execution_count": 14,
     "metadata": {},
     "output_type": "execute_result"
    }
   ],
   "source": [
    "#Write a Python/Numpy code block that removes from array a any items that are also present in array b.\n",
    "#follow instruction to set up two array first\n",
    "a = np.array([12, 5, 7, 15, 3, 1, 8])\n",
    "b = np.array([14, 6, 3, 11, 19, 12, 5])\n",
    "\n",
    "#rephase the question, it equals asking the unique items in a.\n",
    "\n",
    "# using np.setdiff1d to find unqiue array \"uniq_a\" which includes elements in a but not in b\n",
    "uniq_a= np.setdiff1d(a,b)\n",
    "# getthe result\n",
    "uniq_a"
   ]
  },
  {
   "cell_type": "markdown",
   "metadata": {},
   "source": [
    "results are array([ 1,  7,  8, 15])"
   ]
  },
  {
   "cell_type": "markdown",
   "metadata": {},
   "source": [
    "#### Task4"
   ]
  },
  {
   "cell_type": "markdown",
   "metadata": {},
   "source": [
    "Based on the research, the distance between New York City and Key West is 1547.4mile based on Google map.I choose 1547 as the distance value. Since 55 miles on day 1 and 65 miles on day 2 is given, other 33 days including 4 days of no travel need to be made up to fulfil the trip.Based on the inormation provided, 33 days are used for travel other 1427mile.\n",
    "I tried random number generator for this problem but sometimes it provided non-sense value on a day since it difintely the limitation of bike travel per day(For example, travel more than 200 mile a day is not reasonable). Finally, I decided to make up the whole array."
   ]
  },
  {
   "cell_type": "code",
   "execution_count": 18,
   "metadata": {},
   "outputs": [
    {
     "name": "stdout",
     "output_type": "stream",
     "text": [
      "[  55  120  123  168  198  296  296  303  318  340  389  415  552  620  634\n",
      "  655  665  703  704  704  758  763  763  787  905  924 1090 1090 1242 1271\n",
      " 1372 1373 1526 1545 1547]\n"
     ]
    }
   ],
   "source": [
    "#Given day 1 and day2 values, From day3, use random.randint method to generate 33 random numbers between 120 and 1547.\n",
    "\n",
    "day3_end = np.random.randint(120, 1547,33)\n",
    "day3_end\n",
    "#make sure that there is four days without biking, which means the distance between two days keeps the same.\n",
    "for i in np.random.randint(1,32,4):\n",
    "    day3_end[i] = day3_end[i+1]\n",
    "#make sure last day can finish the trip \n",
    "day3_end[32] = 1547\n",
    "day3_end\n",
    "\n",
    "#since it does not include first two days,now add firs two day value\n",
    "beginning= np.array([55,120])\n",
    "#use np.concatenate to add items \n",
    "total=np.concatenate((beginning, day3_end))\n",
    "#reorder to make it in increasing order\n",
    "travel = np.sort(total)\n",
    "#get travel record\n",
    "print(travel)\n"
   ]
  },
  {
   "cell_type": "code",
   "execution_count": 19,
   "metadata": {},
   "outputs": [
    {
     "data": {
      "text/plain": [
       "array([ 65,   3,  45,  30,  98,   0,   7,  15,  22,  49,  26, 137,  68,\n",
       "        14,  21,  10,  38,   1,   0,  54,   5,   0,  24, 118,  19, 166,\n",
       "         0, 152,  29, 101,   1, 153,  19,   2])"
      ]
     },
     "execution_count": 19,
     "metadata": {},
     "output_type": "execute_result"
    }
   ],
   "source": [
    "# using diff function to show the ride per day\n",
    "travel_p_day = np.diff(travel)\n",
    "\n",
    "# Show the total miles rode each day \n",
    "travel_p_day "
   ]
  },
  {
   "cell_type": "markdown",
   "metadata": {},
   "source": [
    "Therefore, this is the answer for this problem."
   ]
  },
  {
   "cell_type": "markdown",
   "metadata": {},
   "source": [
    "### DAV 5400 Week 4 Assignment (NumPy): Problem 5 Data Loader"
   ]
  },
  {
   "cell_type": "code",
   "execution_count": 17,
   "metadata": {},
   "outputs": [
    {
     "data": {
      "text/plain": [
       "numpy.ndarray"
      ]
     },
     "execution_count": 17,
     "metadata": {},
     "output_type": "execute_result"
    }
   ],
   "source": [
    "\n",
    "#from template \n",
    "import pandas\n",
    "import numpy as np\n",
    "\n",
    "# supress scientific notation\n",
    "np.set_printoptions(suppress = True)\n",
    "\n",
    "# read the data file from GitHub and convert to a NumPy ndarray object\n",
    "nyc_water = pandas.read_csv('https://raw.githubusercontent.com/jtopor/DAV-5400/master/Week4/Water_Consumption_In_The_New_York_City.csv').as_matrix()\n",
    "\n",
    "# verify you have an ndarray object\n",
    "type(nyc_water)"
   ]
  },
  {
   "cell_type": "markdown",
   "metadata": {},
   "source": [
    "#### Task5"
   ]
  },
  {
   "cell_type": "code",
   "execution_count": 18,
   "metadata": {},
   "outputs": [
    {
     "data": {
      "text/plain": [
       "1512.0"
      ]
     },
     "execution_count": 18,
     "metadata": {},
     "output_type": "execute_result"
    }
   ],
   "source": [
    "#P1 find the maximum yearly NYC consumption of water in millions of gallons per day\n",
    "\n",
    "# Create array and extract the water consumption from array \"nyc_water\"\n",
    "water = nyc_water[:,2]\n",
    "\n",
    "# using np.max to find the maximum value\n",
    "np.max(water)"
   ]
  },
  {
   "cell_type": "markdown",
   "metadata": {},
   "source": [
    "The maximum yearly NYC consumption of water in millions of gallons per day is 1512 gallon."
   ]
  },
  {
   "cell_type": "code",
   "execution_count": 20,
   "metadata": {},
   "outputs": [
    {
     "data": {
      "text/plain": [
       "39"
      ]
     },
     "execution_count": 20,
     "metadata": {},
     "output_type": "execute_result"
    }
   ],
   "source": [
    "#P2 Find how many calendar years are represented within this dataset\n",
    "\n",
    "\n",
    "#using np.shape find calendar year\n",
    "nyc_water.shape[0]"
   ]
  },
  {
   "cell_type": "markdown",
   "metadata": {},
   "source": [
    "Based on the result, 39 calendar years are represented within this dataset."
   ]
  },
  {
   "cell_type": "code",
   "execution_count": 24,
   "metadata": {},
   "outputs": [
    {
     "name": "stdout",
     "output_type": "stream",
     "text": [
      "160.307692308\n",
      "31.5189433037\n"
     ]
    }
   ],
   "source": [
    "#P3 Find the mean and the standard deviation of the per capita daily water consumption.\n",
    "\n",
    "#create array for the per capita daily water consumption\n",
    "water_per_cap = nyc_water[:,3]\n",
    "#print mean and standard deviation of the array\n",
    "print(np.mean(water_per_cap))\n",
    "print(np.std(water_per_cap))"
   ]
  },
  {
   "cell_type": "markdown",
   "metadata": {},
   "source": [
    "the mean and the standard deviation of the per capita daily water consumption is 160.307692308 per capita daily water consumptio and 31.5189433037."
   ]
  },
  {
   "cell_type": "code",
   "execution_count": 29,
   "metadata": {},
   "outputs": [
    {
     "name": "stdout",
     "output_type": "stream",
     "text": [
      "[ -30461.    17602.    19864.    72119.    53290.    39540.    45192.\n",
      "   23230.    11243.    -9544.    -8525.    38851.    54443.    77222.\n",
      "   64292.    62582.    64772.    75631.    84816.    89401.    60618.\n",
      "   16685.5   16685.5   16685.5   16685.5   16685.5   16685.5   16685.5\n",
      "   16685.5   16685.5   16685.5  108965.    77081.    61281.    49530.\n",
      "   44512.    21171.    85025. ]\n"
     ]
    }
   ],
   "source": [
    "#P4 find the increase or decrease in population from year to year.\n",
    "#population is on second column\n",
    "\n",
    "# Use np.diff functions to find the difference on population.\n",
    "pop_diff = np.diff(nyc_water[:,1], axis = 0)\n",
    "print(pop_diff)"
   ]
  },
  {
   "cell_type": "markdown",
   "metadata": {},
   "source": [
    "The result is show as screen"
   ]
  },
  {
   "cell_type": "code",
   "execution_count": null,
   "metadata": {
    "collapsed": true
   },
   "outputs": [],
   "source": []
  }
 ],
 "metadata": {
  "kernelspec": {
   "display_name": "Python 3",
   "language": "python",
   "name": "python3"
  },
  "language_info": {
   "codemirror_mode": {
    "name": "ipython",
    "version": 3
   },
   "file_extension": ".py",
   "mimetype": "text/x-python",
   "name": "python",
   "nbconvert_exporter": "python",
   "pygments_lexer": "ipython3",
   "version": "3.6.1"
  }
 },
 "nbformat": 4,
 "nbformat_minor": 2
}
