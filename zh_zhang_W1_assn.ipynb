{
 "cells": [
  {
   "cell_type": "markdown",
   "metadata": {},
   "source": [
    "\n",
    "**web link to my own repository** [link](https://github.com/steinszzh/DAV-5400/tree/master/week1%20assignment%20chosen%20data)\n",
    "\n",
    "**web link to the original location of the data** [link](https://archive.ics.uci.edu/ml/datasets/Concrete+Compressive+Strength)"
   ]
  },
  {
   "cell_type": "markdown",
   "metadata": {},
   "source": [
    "The reason why I picked up this data is actually quite simple and It reminded me some good times of my undergraduate.\n",
    "I made concrete with my team in my undergrauate. During the time, all engineering teams competed on making strongest concretes. Since it was a entry level class to material science, we did not dig enough on many details of factors on the strength. I think it is really good to revisit some topics before and explore something deeper, and also this data set has a lot of variables. Without the prior knowledge, it is not obvious to see the correlation between many items and how it affect the strengths. I think this kind of situation happened so commonly in the real life. Due to the fact that the data set are huge, it is also possible that some unrelated data was also collected in the data. How to pick up the effective factors and sorting is very important in the data analytics. I think it can be a good practice for me to work on. "
   ]
  },
  {
   "cell_type": "code",
   "execution_count": null,
   "metadata": {
    "collapsed": true
   },
   "outputs": [],
   "source": []
  }
 ],
 "metadata": {
  "kernelspec": {
   "display_name": "Python 3",
   "language": "python",
   "name": "python3"
  },
  "language_info": {
   "codemirror_mode": {
    "name": "ipython",
    "version": 3
   },
   "file_extension": ".py",
   "mimetype": "text/x-python",
   "name": "python",
   "nbconvert_exporter": "python",
   "pygments_lexer": "ipython3",
   "version": "3.6.1"
  }
 },
 "nbformat": 4,
 "nbformat_minor": 2
}
